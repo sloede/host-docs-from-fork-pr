{
 "cells": [
  {
   "cell_type": "markdown",
   "source": [
    "# 1.3: First steps in Trixi.jl: Changing Trixi.jl itself"
   ],
   "metadata": {}
  },
  {
   "cell_type": "markdown",
   "source": [
    "**Note:** To improve responsiveness via caching, the notebooks are updated only once a week. They are only\n",
    "available for the latest stable release of Trixi.jl at the time of caching."
   ],
   "metadata": {}
  },
  {
   "cell_type": "markdown",
   "source": [
    "If you plan on editing Trixi.jl itself, you can download Trixi.jl locally and run it from\n",
    "the cloned directory:"
   ],
   "metadata": {}
  },
  {
   "cell_type": "markdown",
   "source": [
    "## Cloning Trixi.jl"
   ],
   "metadata": {}
  },
  {
   "cell_type": "markdown",
   "source": [
    "### Windows"
   ],
   "metadata": {}
  },
  {
   "cell_type": "markdown",
   "source": [
    "If you are using Windows, you can clone Trixi.jl by using the GitHub Desktop tool:\n",
    "- If you do not have a GitHub account yet, create it on\n",
    "  the [GitHub website](https://github.com/join).\n",
    "- Download and install [GitHub Desktop](https://desktop.github.com/) and then log in into\n",
    "  your account.\n",
    "- Open GitHub Desktop, press `Ctrl+Shift+O`.\n",
    "- In the opened window, paste `trixi-framework/Trixi.jl` and choose the path to the folder where\n",
    "  you want to save Trixi.jl. Then click `Clone` and Trixi.jl will be cloned to your computer."
   ],
   "metadata": {}
  },
  {
   "cell_type": "markdown",
   "source": [
    "Now you cloned Trixi.jl and only need to tell Julia to use the local clone as the package sources:\n",
    "- Open a terminal using `Win+R` and `cmd`. Navigate to the folder with cloned Trixi.jl using `cd`.\n",
    "- Create new directory `run`, enter it, and start Julia with the `--project=.` flag:\n",
    "  ```shell\n",
    "  mkdir run\n",
    "  cd run\n",
    "  julia --project=.\n",
    "  ```\n",
    "- Now run the following commands to install all relevant packages:\n",
    "  ```julia\n",
    "  using Pkg; Pkg.develop(PackageSpec(path=\"..\")) # Install local Trixi.jl clone\n",
    "  Pkg.add([\"OrdinaryDiffEq\", \"Plots\"])  # Install additional packages\n",
    "  ```"
   ],
   "metadata": {}
  },
  {
   "cell_type": "markdown",
   "source": [
    "Now you already installed Trixi.jl from your local clone. Note that if you installed Trixi.jl\n",
    "this way, you always have to start Julia with the `--project` flag set to your `run` directory,\n",
    "e.g.,\n",
    "```shell\n",
    "julia --project=.\n",
    "```\n",
    "if already inside the `run` directory."
   ],
   "metadata": {}
  },
  {
   "cell_type": "markdown",
   "source": [
    "### Linux"
   ],
   "metadata": {}
  },
  {
   "cell_type": "markdown",
   "source": [
    "You can clone Trixi.jl to your computer executing following commands:\n",
    "```shell\n",
    "git clone git@github.com:trixi-framework/Trixi.jl.git\n",
    "# In case of an error, try the following:\n",
    "# git clone https://github.com/trixi-framework/Trixi.jl\n",
    "cd Trixi.jl\n",
    "mkdir run\n",
    "cd run\n",
    "julia --project=. -e 'using Pkg; Pkg.develop(PackageSpec(path=\"..\"))' # Install local Trixi.jl clone\n",
    "julia -e 'using Pkg; Pkg.add([\"OrdinaryDiffEq\", \"Plots\"])' # Install additional packages'\n",
    "```\n",
    "Note that if you installed Trixi.jl this way,\n",
    "you always have to start Julia with the `--project` flag set to your `run` directory, e.g.,\n",
    "```shell\n",
    "julia --project=.\n",
    "```\n",
    "if already inside the `run` directory."
   ],
   "metadata": {}
  },
  {
   "cell_type": "markdown",
   "source": [
    "## For further reading"
   ],
   "metadata": {}
  },
  {
   "cell_type": "markdown",
   "source": [
    "To further delve into Trixi.jl, you may have a look at following tutorials.\n",
    "- Introduction to DG methods will teach you how to set up a\n",
    "  simple way to approximate the solution of a hyperbolic partial differential equation. It will\n",
    "  be especially useful to learn about the\n",
    "  [Discontinuous Galerkin method](https://en.wikipedia.org/wiki/Discontinuous_Galerkin_method)\n",
    "  and the way it is implemented in Trixi.jl.\n",
    "- Adding a new scalar conservation law and\n",
    "  Adding a non-conservative equation\n",
    "  describe how to add new physics models that are not yet included in Trixi.jl.\n",
    "- Callbacks gives an overview of how to regularly execute specific actions\n",
    "  during a simulation, e.g., to store the solution or adapt the mesh."
   ],
   "metadata": {}
  },
  {
   "cell_type": "markdown",
   "source": [
    "## Package versions"
   ],
   "metadata": {}
  },
  {
   "cell_type": "markdown",
   "source": [
    "These results were obtained using the following versions."
   ],
   "metadata": {}
  },
  {
   "outputs": [],
   "cell_type": "code",
   "source": [
    "using InteractiveUtils\n",
    "versioninfo()\n",
    "\n",
    "using Pkg\n",
    "Pkg.status([\"Trixi\",\"OrdinaryDiffEq\",\"Plots\",\"ForwardDiff\"],\n",
    "           mode=PKGMODE_MANIFEST)"
   ],
   "metadata": {},
   "execution_count": null
  }
 ],
 "nbformat_minor": 3,
 "metadata": {
  "language_info": {
   "file_extension": ".jl",
   "mimetype": "application/julia",
   "name": "julia",
   "version": "1.9.3"
  },
  "kernelspec": {
   "name": "julia-1.9",
   "display_name": "Julia 1.9.3",
   "language": "julia"
  }
 },
 "nbformat": 4
}
