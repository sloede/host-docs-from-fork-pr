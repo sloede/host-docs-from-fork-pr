{
 "cells": [
  {
   "cell_type": "markdown",
   "source": [
    "# 1: Getting started"
   ],
   "metadata": {}
  },
  {
   "cell_type": "markdown",
   "source": [
    "**Note:** To improve responsiveness via caching, the notebooks are updated only once a week. They are only\n",
    "available for the latest stable release of Trixi.jl at the time of caching."
   ],
   "metadata": {}
  },
  {
   "cell_type": "markdown",
   "source": [
    "Trixi.jl is a numerical simulation framework for conservation laws and\n",
    "is written in the [Julia programming language](https://julialang.org/).\n",
    "This tutorial is intended for beginners in Julia and Trixi.jl.\n",
    "After reading it, you will know how to install Julia and Trixi.jl on your computer,\n",
    "and you will be able to download setup files from our GitHub repository, modify them,\n",
    "and run simulations."
   ],
   "metadata": {}
  },
  {
   "cell_type": "markdown",
   "source": [
    "## Julia installation"
   ],
   "metadata": {}
  },
  {
   "cell_type": "markdown",
   "source": [
    "Trixi.jl works with the current stable Julia release. More information about Julia support can be\n",
    "found in the [`README.md`](https://github.com/trixi-framework/Trixi.jl#installation) file.\n",
    "A detailed description of the installation process can be found in the\n",
    "[Julia installation instructions](https://julialang.org/downloads/platform/).\n",
    "But you can follow also our short installation guidelines for Windows and Linux below."
   ],
   "metadata": {}
  },
  {
   "cell_type": "markdown",
   "source": [
    "### Windows"
   ],
   "metadata": {}
  },
  {
   "cell_type": "markdown",
   "source": [
    "- Download Julia installer for Windows from https://julialang.org/downloads/. Make sure\n",
    "  that you choose the right version of installer (64-bit or 32-bit) according to your computer.\n",
    "- Open the downloaded installer.\n",
    "- Paste an installation directory path or find it using a file manager (select `Browse`).\n",
    "- Select `Next`.\n",
    "- Check the `Add Julia to PATH` option to add Julia to the environment variables.\n",
    "  This makes it possible to run Julia in the terminal from any directory by only typing `julia`.\n",
    "- Select `Next`, then Julia will be installed."
   ],
   "metadata": {}
  },
  {
   "cell_type": "markdown",
   "source": [
    "Now you can verify, that Julia is installed:\n",
    "- Press `Win+R` on a keyboard.\n",
    "- Enter `cmd` in opened window.\n",
    "- Enter in a terminal `julia`."
   ],
   "metadata": {}
  },
  {
   "cell_type": "markdown",
   "source": [
    "Then Julia will be invoked. To close Julia enter `exit()` or press `Ctrl+d`."
   ],
   "metadata": {}
  },
  {
   "cell_type": "markdown",
   "source": [
    "### Linux"
   ],
   "metadata": {}
  },
  {
   "cell_type": "markdown",
   "source": [
    "- Open a terminal and navigate (using `cd`) to the directory, where you want to store Julia.\n",
    "- To install Julia, get a link to the latest version of Julia from the\n",
    "  [Julia website](https://julialang.org/downloads/), then download an archive file by executing:\n",
    "  ````\n",
    "  wget https://julialang-s3.julialang.org/bin/linux/... # your link goes here\n",
    "  ````\n",
    "- Unpack the downloaded file with:\n",
    "  ````\n",
    "  tar xf julia-....tar.gz # your archive filename goes here\n",
    "  ````"
   ],
   "metadata": {}
  },
  {
   "cell_type": "markdown",
   "source": [
    "Now you can verify that Julia is installed entering `<Julia directory>/bin/julia`\n",
    "(e.g. `julia-1.8.5/bin/julia`) command in a terminal. `<Julia directory>` is the directory where\n",
    "Julia is installed.\n",
    "Then Julia will be invoked. To close Julia, enter `exit()` or press `Ctrl+d`."
   ],
   "metadata": {}
  },
  {
   "cell_type": "markdown",
   "source": [
    "Note, that further in the tutorial Julia will invoked only typing `julia` in a terminal.\n",
    "To enable that, you have to add\n",
    "[Julia to the PATH](https://julialang.org/downloads/platform/#linux_and_freebsd)."
   ],
   "metadata": {}
  },
  {
   "cell_type": "markdown",
   "source": [
    "## Trixi.jl installation"
   ],
   "metadata": {}
  },
  {
   "cell_type": "markdown",
   "source": [
    "Trixi.jl and its related tools are registered Julia packages, thus their installation\n",
    "happens inside Julia.\n",
    "For a smooth workflow experience with Trixi.jl, you need to install\n",
    "[Trixi.jl](https://github.com/trixi-framework/Trixi.jl),\n",
    "[OrdinaryDiffEq.jl](https://github.com/SciML/OrdinaryDiffEq.jl) and\n",
    "[Plots.jl](https://github.com/JuliaPlots/Plots.jl)."
   ],
   "metadata": {}
  },
  {
   "cell_type": "markdown",
   "source": [
    "- Open a terminal and invoke Julia (Windows and Linux: type `julia`).\n",
    "- Execute following commands:\n",
    "  ````\n",
    "  import Pkg\n",
    "  Pkg.add([\"OrdinaryDiffEq\", \"Plots\", \"Trixi\"])\n",
    "  ````"
   ],
   "metadata": {}
  },
  {
   "cell_type": "markdown",
   "source": [
    "Now you have installed all these\n",
    "packages. [OrdinaryDiffEq.jl](https://github.com/SciML/OrdinaryDiffEq.jl) provides time integration schemes\n",
    "used by Trixi.jl and [Plots.jl](https://github.com/JuliaPlots/Plots.jl) can be used to directly\n",
    "visualize Trixi.jl results from the Julia REPL."
   ],
   "metadata": {}
  },
  {
   "cell_type": "markdown",
   "source": [
    "## Usage"
   ],
   "metadata": {}
  },
  {
   "cell_type": "markdown",
   "source": [
    "### Running a simulation"
   ],
   "metadata": {}
  },
  {
   "cell_type": "markdown",
   "source": [
    "To get you started, Trixi.jl has a large set\n",
    "of [example setups](https://github.com/trixi-framework/Trixi.jl/tree/main/examples), that can be taken\n",
    "as a basis for your future investigations.\n",
    "In Trixi.jl, we call these setup files \"elixirs\", since they contain Julia code that\n",
    "takes parts of Trixi.jl and combines them into something new."
   ],
   "metadata": {}
  },
  {
   "cell_type": "markdown",
   "source": [
    "Now execute one of the examples using the `trixi_include`\n",
    "function. `trixi_include(...)` expects\n",
    "a single string argument with a path to a file containing Julia code.\n",
    "`joinpath(...)` join a path components into a full path.\n",
    "The `examples_dir` function returns a path to the\n",
    "[`examples`](https://github.com/trixi-framework/Trixi.jl/tree/main/examples) folder\n",
    "that has been locally downloaded while installing Trixi.jl."
   ],
   "metadata": {}
  },
  {
   "cell_type": "markdown",
   "source": [
    "Let's execute a short two-dimensional problem setup. It approximates the solution of\n",
    "the compressible Euler equations in 2D for an ideal gas (`CompressibleEulerEquations2D`)\n",
    "with a weak blast wave as the initial condition."
   ],
   "metadata": {}
  },
  {
   "cell_type": "markdown",
   "source": [
    "Invoke Julia in a terminal.\n",
    "And execute following code."
   ],
   "metadata": {}
  },
  {
   "outputs": [],
   "cell_type": "code",
   "source": [
    "using Trixi, OrdinaryDiffEq\n",
    "trixi_include(@__MODULE__,joinpath(examples_dir(), \"tree_2d_dgsem\", \"elixir_euler_ec.jl\"))"
   ],
   "metadata": {},
   "execution_count": null
  },
  {
   "cell_type": "markdown",
   "source": [
    "To observe the result of the computation, we need to use the `Plots` package and the function\n",
    "`plot()`, that builds a graphical representation of the solution. `sol` is a variable defined in\n",
    "executed example and it contains a solution at a final moment of time."
   ],
   "metadata": {}
  },
  {
   "outputs": [],
   "cell_type": "code",
   "source": [
    "using Plots\n",
    "plot(sol)"
   ],
   "metadata": {},
   "execution_count": null
  },
  {
   "cell_type": "markdown",
   "source": [
    "To obtain list of all Trixi.jl elixirs execute\n",
    "`get_examples`. It returns paths to all examples."
   ],
   "metadata": {}
  },
  {
   "outputs": [],
   "cell_type": "code",
   "source": [
    "get_examples()"
   ],
   "metadata": {},
   "execution_count": null
  },
  {
   "cell_type": "markdown",
   "source": [
    "Editing Trixi.jl examples is the best way to start your first own investigation using Trixi.jl."
   ],
   "metadata": {}
  },
  {
   "cell_type": "markdown",
   "source": [
    "### Files downloading"
   ],
   "metadata": {}
  },
  {
   "cell_type": "markdown",
   "source": [
    "To edit example files you have to download them. Let's have a look how to download\n",
    "`elixir_euler_ec.jl` used in the previous section from the\n",
    "[Trixi.jl github](https://github.com/trixi-framework/Trixi.jl)."
   ],
   "metadata": {}
  },
  {
   "cell_type": "markdown",
   "source": [
    "- All examples are located inside\n",
    "  the [`examples`](https://github.com/trixi-framework/Trixi.jl/tree/main/examples) folder.\n",
    "- Navigate to the\n",
    "  file [`elixir_euler_ec.jl`](https://github.com/trixi-framework/Trixi.jl/blob/main/examples/tree_2d_dgsem/elixir_euler_ec.jl).\n",
    "- Click the `Raw` button on the right side of the webpage.\n",
    "- Right-click on any place of the newly opened webpage and choose `Save as`.\n",
    "- Choose a folder and erase `.txt` from the file name. Save the file."
   ],
   "metadata": {}
  },
  {
   "cell_type": "markdown",
   "source": [
    "### Files editing"
   ],
   "metadata": {}
  },
  {
   "cell_type": "markdown",
   "source": [
    "For example, we will change the initial condition for calculations that occur in\n",
    "`elixir_euler_ec.jl`. In this example we consider the compressible Euler equations:\n",
    "$$\n",
    "\\frac{\\partial}{\\partial t}\n",
    "\\begin{pmatrix}\n",
    "\\rho \\\\ \\rho v_1 \\\\ \\rho v_2 \\\\ \\rho e\n",
    "\\end{pmatrix}\n",
    "+\n",
    "\\frac{\\partial}{\\partial x}\n",
    "\\begin{pmatrix}\n",
    "\\rho v_1 \\\\ \\rho v_1^2 + p \\\\ \\rho v_1 v_2 \\\\ (\\rho e +p) v_1\n",
    "\\end{pmatrix}\n",
    "+\n",
    "\\frac{\\partial}{\\partial y}\n",
    "\\begin{pmatrix}\n",
    "\\rho v_2 \\\\ \\rho v_1 v_2 \\\\ \\rho v_2^2 + p \\\\ (\\rho e +p) v_2\n",
    "\\end{pmatrix}\n",
    "=\n",
    "\\begin{pmatrix}\n",
    "0 \\\\ 0 \\\\ 0 \\\\ 0\n",
    "\\end{pmatrix}\n",
    "$$\n",
    "for an ideal gas with ratio of specific heats $\\gamma$\n",
    "in two space dimensions.\n",
    "Here, $\\rho$ is the density, $v_1$, $v_2$ the velocities, $e$ the specific total\n",
    "energy, and\n",
    "$$\n",
    "p = (\\gamma - 1) \\left( \\rho e - \\frac{1}{2} \\rho (v_1^2+v_2^2) \\right)\n",
    "$$\n",
    "the pressure.\n",
    "Initial condition consists of initial values for $\\rho$, $\\rho v_1$,\n",
    "$\\rho v_2$ and $\\rho e$.\n",
    "One of the common initial condition for compressible Euler equations is density wave.\n",
    "Let's implement it."
   ],
   "metadata": {}
  },
  {
   "cell_type": "markdown",
   "source": [
    "- Open the downloaded file with notepad or any other text editor.\n",
    "- And go to the 9th line with following code:\n",
    "  ````\n",
    "  initial_condition = initial_condition_weak_blast_wave\n",
    "  ````\n",
    "  Here `initial_condition_weak_blast_wave` is used.\n",
    "- Comment out this line using # symbol:\n",
    "  ````\n",
    "  # initial_condition = initial_condition_weak_blast_wave\n",
    "  ````\n",
    "- Now you can create your own initial conditions. Write following code into a file after the\n",
    "  commented line:"
   ],
   "metadata": {}
  },
  {
   "outputs": [],
   "cell_type": "code",
   "source": [
    "    function initial_condition_density_waves(x,t,equations::CompressibleEulerEquations2D)\n",
    "      v1 = 0.1 # velocity along x-axis\n",
    "      v2 = 0.2 # velocity along y-axis\n",
    "      rho = 1.0 + 0.98 * sin(pi * (sum(x) - t * (v1 + v2))) # density wave profile\n",
    "      p = 20 # pressure\n",
    "      rho_e = p / (equations.gamma - 1) + 1/2 * rho * (v1^2 + v2^2)\n",
    "      return SVector(rho, rho*v1, rho*v2, rho_e)\n",
    "    end\n",
    "    initial_condition=initial_condition_density_waves"
   ],
   "metadata": {},
   "execution_count": null
  },
  {
   "cell_type": "markdown",
   "source": [
    "- Execute following code one more time, but instead of `path_to_file` paste the path to the\n",
    "  `elixir_euler_ec.jl` file from the current folder.\n",
    "  ````\n",
    "  using Trixi\n",
    "  trixi_include(path_to_file)\n",
    "  using Plots\n",
    "  plot(sol)\n",
    "  ````\n",
    "Then you will obtain new solution."
   ],
   "metadata": {}
  },
  {
   "cell_type": "markdown",
   "source": [
    "Feel free to add\n",
    "changes into `initial_condition` to observe different solutions."
   ],
   "metadata": {}
  },
  {
   "cell_type": "markdown",
   "source": [
    "Now you are able to download, edit and execute Trixi.jl code."
   ],
   "metadata": {}
  },
  {
   "cell_type": "markdown",
   "source": [
    "## Next steps"
   ],
   "metadata": {}
  },
  {
   "cell_type": "markdown",
   "source": [
    "If you plan on editing Trixi.jl itself, you can download Trixi.jl locally and run it from\n",
    "the cloned directory:"
   ],
   "metadata": {}
  },
  {
   "cell_type": "markdown",
   "source": [
    "### Cloning Trixi.jl"
   ],
   "metadata": {}
  },
  {
   "cell_type": "markdown",
   "source": [
    "#### Windows"
   ],
   "metadata": {}
  },
  {
   "cell_type": "markdown",
   "source": [
    "If you are using Windows OS, you can clone Trixi.jl directory using a Github Desktop.\n",
    "- If you haven't any github account yet, you have to create it on\n",
    "  the [Github website](https://github.com/join).\n",
    "- Download and install [Github Desktop](https://desktop.github.com/) and then login into\n",
    "  your account.\n",
    "- Open an installed Github Desktop, press `Ctrl+Shift+O`.\n",
    "- In opened window paste `trixi-framework/Trixi.jl` and choose path to the folder, where you want\n",
    "  to save Trixi.jl. Then click `Clone` and Trixi.jl will be cloned to your computer."
   ],
   "metadata": {}
  },
  {
   "cell_type": "markdown",
   "source": [
    "Now you cloned Trixi.jl and only need to add Trixi.jl packages to Julia.\n",
    "- Open a terminal using `Win+R` and `cmd`. Navigate to the folder with cloned Trixi.jl using `cd`.\n",
    "- Create new directory and start Julia with the `--project` flag set to your local Trixi.jl clone.\n",
    "  ````\n",
    "  mkdir run\n",
    "  cd run\n",
    "  julia --project=.\n",
    "  ````\n",
    "- Run following commands in Julia REPL:\n",
    "  ````\n",
    "  using Pkg; Pkg.develop(PackageSpec(path=\"..\")) # Install local Trixi.jl clone\n",
    "  Pkg.add([\"OrdinaryDiffEq\", \"Trixi2Vtk\", \"Plots\"])  # Install additional packages\n",
    "  ````"
   ],
   "metadata": {}
  },
  {
   "cell_type": "markdown",
   "source": [
    "Now you already installed Trixi.jl from your local clone. Note that if you installed Trixi.jl this\n",
    "way, you always have to start Julia with the `--project` flag set to your `run` directory, e.g.,\n",
    "````\n",
    "julia --project=.\n",
    "````\n",
    "if already inside the `run` directory."
   ],
   "metadata": {}
  },
  {
   "cell_type": "markdown",
   "source": [
    "#### Linux"
   ],
   "metadata": {}
  },
  {
   "cell_type": "markdown",
   "source": [
    "You can clone Trixi.jl to your computer executing following commands:\n",
    "````\n",
    "git clone git@github.com:trixi-framework/Trixi.jl.git\n",
    "# In case of an error, use following: git clone https://github.com/trixi-framework/Trixi.jl\n",
    "cd Trixi.jl\n",
    "mkdir run\n",
    "cd run\n",
    "julia --project=. -e 'using Pkg; Pkg.develop(PackageSpec(path=\"..\"))' # Install local Trixi.jl clone\n",
    "julia -e 'using Pkg; Pkg.add([\"OrdinaryDiffEq\", \"Trixi2Vtk\", \"Plots\"])' # Install additional packages'\n",
    "````\n",
    "Note that if you installed Trixi.jl this way,\n",
    "you always have to start Julia with the `--project` flag set to your `run` directory, e.g.,\n",
    "````\n",
    "julia --project=.\n",
    "````\n",
    "if already inside the `run` directory."
   ],
   "metadata": {}
  },
  {
   "cell_type": "markdown",
   "source": [
    "### For further reading"
   ],
   "metadata": {}
  },
  {
   "cell_type": "markdown",
   "source": [
    "To get deeper into Trixi.jl, you may have a look at following tutorials.\n",
    "- Introduction to DG methods on how to set up a simple way to\n",
    "  approximate the solution of a hyperbolic partial differential equation. It will be esspecialy\n",
    "  useful to learn about the\n",
    "  [Discontinuous Galerkin method](https://en.wikipedia.org/wiki/Discontinuous_Galerkin_method)\n",
    "  and way of its implementation in Trixi.jl. Detailed explanation of code provides a quick start\n",
    "  with Trixi.jl.\n",
    "- Adding a new scalar conservation law and\n",
    "  Adding a non-conservative equation\n",
    "  describe how to add a new physics model that's not included in Trixi.jl yet.\n",
    "- Callbacks gives an overview of an algorithmic entity called callback that\n",
    "  gets passed to the ODE solver and is called at specific points during execution to perform\n",
    "  certain tasks. It extends Trixi.jl without modifying the internal source code."
   ],
   "metadata": {}
  }
 ],
 "nbformat_minor": 3,
 "metadata": {
  "language_info": {
   "file_extension": ".jl",
   "mimetype": "application/julia",
   "name": "julia",
   "version": "1.8.5"
  },
  "kernelspec": {
   "name": "julia-1.8",
   "display_name": "Julia 1.8.5",
   "language": "julia"
  }
 },
 "nbformat": 4
}
