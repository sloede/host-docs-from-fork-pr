{
 "cells": [
  {
   "cell_type": "markdown",
   "source": [
    "# 1: Getting started"
   ],
   "metadata": {}
  },
  {
   "cell_type": "markdown",
   "source": [
    "**Note:** To improve responsiveness via caching, the notebooks are updated only once a week. They are only\n",
    "available for the latest stable release of Trixi.jl at the time of caching."
   ],
   "metadata": {}
  },
  {
   "cell_type": "markdown",
   "source": [
    "Trixi.jl is a numerical simulation framework for conservation laws and\n",
    "is written in the [Julia programming language](https://julialang.org/).\n",
    "This tutorial is intended for beginners in Julia and Trixi.jl.\n",
    "After reading it, you will know how to install Julia and Trixi.jl on your computer,\n",
    "and you will be able to download setup files from our GitHub repository, modify them,\n",
    "and run simulations."
   ],
   "metadata": {}
  },
  {
   "cell_type": "markdown",
   "source": [
    "## Julia installation"
   ],
   "metadata": {}
  },
  {
   "cell_type": "markdown",
   "source": [
    "Trixi.jl works with the current stable Julia release. More information about Julia support can be\n",
    "found in the [`README.md`](https://github.com/trixi-framework/Trixi.jl#installation) file.\n",
    "A detailed description of the installation process can be found in the\n",
    "[Julia installation instructions](https://julialang.org/downloads/platform/).\n",
    "But you can follow also our short installation guidelines for Windows and Linux below."
   ],
   "metadata": {}
  },
  {
   "cell_type": "markdown",
   "source": [
    "### Windows"
   ],
   "metadata": {}
  },
  {
   "cell_type": "markdown",
   "source": [
    "- Download Julia installer for Windows from [https://julialang.org/downloads/](https://julialang.org/downloads/). Make sure\n",
    "  that you choose the right version of installer (64-bit or 32-bit) according to your computer.\n",
    "- Open the downloaded installer.\n",
    "- Paste an installation directory path or find it using a file manager (select `Browse`).\n",
    "- Select `Next`.\n",
    "- Check the `Add Julia to PATH` option to add Julia to the environment variables.\n",
    "  This makes it possible to run Julia in the terminal from any directory by only typing `julia`.\n",
    "- Select `Next`, then Julia will be installed."
   ],
   "metadata": {}
  },
  {
   "cell_type": "markdown",
   "source": [
    "Now you can verify, that Julia is installed:\n",
    "- Press `Win+R` on a keyboard.\n",
    "- Enter `cmd` in opened window.\n",
    "- Enter in a terminal `julia`."
   ],
   "metadata": {}
  },
  {
   "cell_type": "markdown",
   "source": [
    "Then Julia will be invoked. To close Julia enter `exit()` or press `Ctrl+d`."
   ],
   "metadata": {}
  },
  {
   "cell_type": "markdown",
   "source": [
    "### Linux"
   ],
   "metadata": {}
  },
  {
   "cell_type": "markdown",
   "source": [
    "- Open a terminal and navigate (using `cd`) to the directory, where you want to store Julia.\n",
    "- To install Julia, get a link to the latest version of Julia from the\n",
    "  [Julia website](https://julialang.org/downloads/), then download an archive file by executing:\n",
    "  ```shell\n",
    "  wget https://julialang-s3.julialang.org/bin/linux/... # your link goes here\n",
    "  ```\n",
    "- Unpack the downloaded file with:\n",
    "  ```shell\n",
    "  tar xf julia-....tar.gz # your archive filename goes here\n",
    "  ```"
   ],
   "metadata": {}
  },
  {
   "cell_type": "markdown",
   "source": [
    "Now you can verify that Julia is installed entering `<Julia directory>/bin/julia`\n",
    "(e.g. `julia-1.8.5/bin/julia`) command in a terminal. `<Julia directory>` is the directory where\n",
    "Julia is installed.\n",
    "Then Julia will be invoked. To close Julia, enter `exit()` or press `Ctrl+d`."
   ],
   "metadata": {}
  },
  {
   "cell_type": "markdown",
   "source": [
    "Note, that further in the tutorial Julia will be invoked only typing `julia` in a terminal.\n",
    "To enable that, you have to add\n",
    "[Julia to the PATH](https://julialang.org/downloads/platform/#linux_and_freebsd)."
   ],
   "metadata": {}
  },
  {
   "cell_type": "markdown",
   "source": [
    "## Trixi.jl installation"
   ],
   "metadata": {}
  },
  {
   "cell_type": "markdown",
   "source": [
    "Trixi.jl and its related tools are registered Julia packages, thus their installation\n",
    "happens inside Julia.\n",
    "For a smooth workflow experience with Trixi.jl, you need to install\n",
    "[Trixi.jl](https://github.com/trixi-framework/Trixi.jl),\n",
    "[OrdinaryDiffEq.jl](https://github.com/SciML/OrdinaryDiffEq.jl) and\n",
    "[Plots.jl](https://github.com/JuliaPlots/Plots.jl)."
   ],
   "metadata": {}
  },
  {
   "cell_type": "markdown",
   "source": [
    "- Open a terminal and invoke Julia (Windows and Linux: type `julia`).\n",
    "- Execute following commands:\n",
    "  ```julia\n",
    "  import Pkg\n",
    "  Pkg.add([\"OrdinaryDiffEq\", \"Plots\", \"Trixi\"])\n",
    "  ```"
   ],
   "metadata": {}
  },
  {
   "cell_type": "markdown",
   "source": [
    "Now you have installed all these\n",
    "packages. [OrdinaryDiffEq.jl](https://github.com/SciML/OrdinaryDiffEq.jl) provides time integration schemes\n",
    "used by Trixi.jl and [Plots.jl](https://github.com/JuliaPlots/Plots.jl) can be used to directly\n",
    "visualize Trixi.jl results from the Julia REPL."
   ],
   "metadata": {}
  },
  {
   "cell_type": "markdown",
   "source": [
    "## Usage"
   ],
   "metadata": {}
  },
  {
   "cell_type": "markdown",
   "source": [
    "### Running a simulation"
   ],
   "metadata": {}
  },
  {
   "cell_type": "markdown",
   "source": [
    "To get you started, Trixi.jl has a large set\n",
    "of [example setups](https://github.com/trixi-framework/Trixi.jl/tree/main/examples), that can be taken\n",
    "as a basis for your future investigations.\n",
    "In Trixi.jl, we call these setup files \"elixirs\", since they contain Julia code that\n",
    "takes parts of Trixi.jl and combines them into something new."
   ],
   "metadata": {}
  },
  {
   "cell_type": "markdown",
   "source": [
    "Now execute one of the examples using the `trixi_include`\n",
    "function. `trixi_include(...)` expects\n",
    "a single string argument with a path to a file containing Julia code.\n",
    "`joinpath(...)` join a path components into a full path.\n",
    "The `examples_dir` function returns a path to the\n",
    "[`examples`](https://github.com/trixi-framework/Trixi.jl/tree/main/examples) folder\n",
    "that has been locally downloaded while installing Trixi.jl."
   ],
   "metadata": {}
  },
  {
   "cell_type": "markdown",
   "source": [
    "Let's execute a short two-dimensional problem setup. It approximates the solution of\n",
    "the compressible Euler equations in 2D for an ideal gas (`CompressibleEulerEquations2D`)\n",
    "with a weak blast wave as the initial condition."
   ],
   "metadata": {}
  },
  {
   "cell_type": "markdown",
   "source": [
    "Start Julia in a terminal and execute following code:"
   ],
   "metadata": {}
  },
  {
   "cell_type": "markdown",
   "source": [
    "```julia\n",
    "using Trixi, OrdinaryDiffEq\n",
    "trixi_include(joinpath(examples_dir(), \"tree_2d_dgsem\", \"elixir_euler_ec.jl\"))\n",
    "```"
   ],
   "metadata": {}
  },
  {
   "cell_type": "markdown",
   "source": [
    "To analyze the result of the computation, we can use the Plots.jl package and the function\n",
    "`plot(...)`, which creates a graphical representation of the solution. `sol` is a variable defined in\n",
    "executed example and it contains the solution at the final moment of the simulation."
   ],
   "metadata": {}
  },
  {
   "outputs": [],
   "cell_type": "code",
   "source": [
    "using Plots\n",
    "plot(sol)"
   ],
   "metadata": {},
   "execution_count": null
  },
  {
   "cell_type": "markdown",
   "source": [
    "To obtain list of all Trixi.jl elixirs execute\n",
    "`get_examples`. It returns the path to all example setups."
   ],
   "metadata": {}
  },
  {
   "outputs": [],
   "cell_type": "code",
   "source": [
    "get_examples()"
   ],
   "metadata": {},
   "execution_count": null
  },
  {
   "cell_type": "markdown",
   "source": [
    "Editing an existing elixirs is the best way to start your first own investigation using Trixi.jl."
   ],
   "metadata": {}
  },
  {
   "cell_type": "markdown",
   "source": [
    "### Getting an existing setup file"
   ],
   "metadata": {}
  },
  {
   "cell_type": "markdown",
   "source": [
    "To edit an existing elixir, you first have to find a suitable one and then copy it to a local folder.\n",
    "Let's have a look how to download the\n",
    "`elixir_euler_ec.jl` elixir used in the previous section from the\n",
    "[Trixi.jl GitHub repository](https://github.com/trixi-framework/Trixi.jl)."
   ],
   "metadata": {}
  },
  {
   "cell_type": "markdown",
   "source": [
    "- All examples are located inside\n",
    "  the [`examples`](https://github.com/trixi-framework/Trixi.jl/tree/main/examples) folder.\n",
    "- Navigate to the\n",
    "  file [`elixir_euler_ec.jl`](https://github.com/trixi-framework/Trixi.jl/blob/main/examples/tree_2d_dgsem/elixir_euler_ec.jl).\n",
    "- Right-click the `Raw` button on the right side of the webpage and choose `Save as...` (or `Save Link As...`).\n",
    "- Choose a folder and save the file."
   ],
   "metadata": {}
  },
  {
   "cell_type": "markdown",
   "source": [
    "### Modifying an existing setup"
   ],
   "metadata": {}
  },
  {
   "cell_type": "markdown",
   "source": [
    "For example, we will change the initial condition for calculations that occur in\n",
    "`elixir_euler_ec.jl`. In this example we consider the compressible Euler equations in two spatial dimensions,\n",
    "$$\n",
    "\\frac{\\partial}{\\partial t}\n",
    "\\begin{pmatrix}\n",
    "\\rho \\\\ \\rho v_1 \\\\ \\rho v_2 \\\\ \\rho e\n",
    "\\end{pmatrix}\n",
    "+\n",
    "\\frac{\\partial}{\\partial x}\n",
    "\\begin{pmatrix}\n",
    "\\rho v_1 \\\\ \\rho v_1^2 + p \\\\ \\rho v_1 v_2 \\\\ (\\rho e +p) v_1\n",
    "\\end{pmatrix}\n",
    "+\n",
    "\\frac{\\partial}{\\partial y}\n",
    "\\begin{pmatrix}\n",
    "\\rho v_2 \\\\ \\rho v_1 v_2 \\\\ \\rho v_2^2 + p \\\\ (\\rho e +p) v_2\n",
    "\\end{pmatrix}\n",
    "=\n",
    "\\begin{pmatrix}\n",
    "0 \\\\ 0 \\\\ 0 \\\\ 0\n",
    "\\end{pmatrix},\n",
    "$$\n",
    "for an ideal gas with the specific heat ratio $\\gamma$.\n",
    "Here, $\\rho$ is the density, $v_1$ and $v_2$ are the velocities, $e$ is the specific total\n",
    "energy, and\n",
    "$$\n",
    "p = (\\gamma - 1) \\left( \\rho e - \\frac{1}{2} \\rho (v_1^2+v_2^2) \\right)\n",
    "$$\n",
    "is the pressure.\n",
    "Initial conditions consist of initial values for $\\rho$, $\\rho v_1$,\n",
    "$\\rho v_2$ and $\\rho e$.\n",
    "One of the common initial conditions for the compressible Euler equations is a simple density wave.\n",
    "Let's implement it."
   ],
   "metadata": {}
  },
  {
   "cell_type": "markdown",
   "source": [
    "- Open the downloaded file `elixir_euler_ec.jl` with a text editor.\n",
    "- Go to the line with the following code:\n",
    "  ```julia\n",
    "  initial_condition = initial_condition_weak_blast_wave\n",
    "  ```\n",
    "  Here, `initial_condition_weak_blast_wave` is used as the initial condition.\n",
    "- Comment out the line using the `#` symbol:\n",
    "  ```julia\n",
    "  # initial_condition = initial_condition_weak_blast_wave\n",
    "  ```\n",
    "- Now you can create your own initial conditions. Add the following code after the\n",
    "  commented line:"
   ],
   "metadata": {}
  },
  {
   "outputs": [],
   "cell_type": "code",
   "source": [
    "    function initial_condition_density_waves(x,t,equations::CompressibleEulerEquations2D)\n",
    "      v1 = 0.1 # velocity along x-axis\n",
    "      v2 = 0.2 # velocity along y-axis\n",
    "      rho = 1.0 + 0.98 * sin(pi * (sum(x) - t * (v1 + v2))) # density wave profile\n",
    "      p = 20 # pressure\n",
    "      rho_e = p / (equations.gamma - 1) + 1/2 * rho * (v1^2 + v2^2)\n",
    "      return SVector(rho, rho*v1, rho*v2, rho_e)\n",
    "    end\n",
    "    initial_condition=initial_condition_density_waves"
   ],
   "metadata": {},
   "execution_count": null
  },
  {
   "cell_type": "markdown",
   "source": [
    "- Execute the following code one more time, but instead of `path/to/file` paste the path to the\n",
    "  `elixir_euler_ec.jl` file that you just edited.\n",
    "  ```julia\n",
    "  using Trixi\n",
    "  trixi_include(path/to/file)\n",
    "  using Plots\n",
    "  plot(sol)\n",
    "  ```\n",
    "Then you will obtain a new solution from running the simulation with a different initial condition."
   ],
   "metadata": {}
  },
  {
   "cell_type": "markdown",
   "source": [
    "Feel free to make further changes to the initial condition to observe different solutions."
   ],
   "metadata": {}
  },
  {
   "cell_type": "markdown",
   "source": [
    "Now you are able to download, modify and execute simulation setups for Trixi.jl."
   ],
   "metadata": {}
  },
  {
   "cell_type": "markdown",
   "source": [
    "### Create first setup"
   ],
   "metadata": {}
  },
  {
   "cell_type": "markdown",
   "source": [
    "In this part of the tutorial we will consider a creation of first Trixi.jl setup. To make code\n",
    "easy to read and understand we will discuss only one dimensional case. But all described logic\n",
    "will be valid for more complicated 2D and 3D cases. You can take a look at one of the elixirs\n",
    "to see 2D or 3D use cases, e.g.\n",
    "[`elixir_advection_basic.jl`](https://github.com/trixi-framework/Trixi.jl/blob/main/examples/tree_2d_dgsem/elixir_advection_basic.jl)."
   ],
   "metadata": {}
  },
  {
   "cell_type": "markdown",
   "source": [
    "The first step is to create and open a file with .jl extension. You can do it with your favorite\n",
    "text editor."
   ],
   "metadata": {}
  },
  {
   "cell_type": "markdown",
   "source": [
    "First you need to connect the packages that you will use in your setup. By default you will always need\n",
    "Trixi.jl itself and [OrdinaryDiffEq.jl](https://github.com/SciML/OrdinaryDiffEq.jl)."
   ],
   "metadata": {}
  },
  {
   "outputs": [],
   "cell_type": "code",
   "source": [
    "using Trixi\n",
    "using OrdinaryDiffEq"
   ],
   "metadata": {},
   "execution_count": null
  },
  {
   "cell_type": "markdown",
   "source": [
    "The next thing to do is to choose an equation suitable for your problem. For simplicity we use\n",
    "`LinearScalarAdvectionEquation1D`. To see all currently implemented equations, take\n",
    "a look at\n",
    "[src/equations](https://github.com/trixi-framework/Trixi.jl/tree/main/src/equations).\n",
    "If you are interested in adding a new physics model that is not implemented in Trixi.jl yet,\n",
    "take a look at\n",
    "Adding a new scalar conservation law and\n",
    "Adding a non-conservative equation."
   ],
   "metadata": {}
  },
  {
   "outputs": [],
   "cell_type": "code",
   "source": [
    "advection_velocity = 1.0\n",
    "equations = LinearScalarAdvectionEquation1D(advection_velocity)"
   ],
   "metadata": {},
   "execution_count": null
  },
  {
   "cell_type": "markdown",
   "source": [
    "To solve your problem numerically with Trixi.jl, you have to define an instruction for spatial\n",
    "discretization. To do it, you need to setup a mesh. The most widely used in Trixi.jl is the\n",
    "`TreeMesh`. The interval used is [-1.0, 1.0]. We also set a number of elements in\n",
    "the mesh using `initial_refinement_level` that describes the initial height of the tree mesh.\n",
    "The variable `n_cells_max` is used to limit the number of elements in the mesh, which cannot be\n",
    "exceeded due to adaptive mesh refinement."
   ],
   "metadata": {}
  },
  {
   "outputs": [],
   "cell_type": "code",
   "source": [
    "coordinates_min = -1.0\n",
    "coordinates_max =  1.0\n",
    "mesh = TreeMesh(coordinates_min, coordinates_max,\n",
    "                initial_refinement_level=4,\n",
    "                n_cells_max=30_000)"
   ],
   "metadata": {},
   "execution_count": null
  },
  {
   "cell_type": "markdown",
   "source": [
    "To approximate the solution of the given model we create a DG solver. The solution in every of\n",
    "the recently defined mesh's elements will be approximated by a polynomial of `polydeg`. See more\n",
    "in the Introduction to DG methods."
   ],
   "metadata": {}
  },
  {
   "outputs": [],
   "cell_type": "code",
   "source": [
    "solver = DGSEM(polydeg=3)"
   ],
   "metadata": {},
   "execution_count": null
  },
  {
   "cell_type": "markdown",
   "source": [
    "Create an initial conditions, e.g. a Gaussian pulse. All already implemented initial conditions for the\n",
    "`LinearScalarAdvectionEquation1D` can be found in\n",
    "[`src/equations/linear_scalar_advection_1d.jl`](https://github.com/trixi-framework/Trixi.jl/blob/main/src/equations/linear_scalar_advection_1d.jl)\n",
    "or you can implement your initial conditions as shown above for another example."
   ],
   "metadata": {}
  },
  {
   "outputs": [],
   "cell_type": "code",
   "source": [
    "initial_conditions = initial_condition_gauss"
   ],
   "metadata": {},
   "execution_count": null
  },
  {
   "cell_type": "markdown",
   "source": [
    "Now we collect the information that will be needed to define spatial discretization, and create\n",
    "an ODE problem with a time span fpom 0.0 to 1.0."
   ],
   "metadata": {}
  },
  {
   "outputs": [],
   "cell_type": "code",
   "source": [
    "semi = SemidiscretizationHyperbolic(mesh, equations, initial_condition_convergence_test, solver)\n",
    "tspan=(0.0,1.0)\n",
    "ode = semidiscretize(semi, tspan);"
   ],
   "metadata": {},
   "execution_count": null
  },
  {
   "cell_type": "markdown",
   "source": [
    "At this point our problem is defined. We will use `solve` function defined in OrdinaryDiffEq.jl.\n",
    "OrdinaryDiffEq.jl gives us possibility to extend the solver using Callbacks without actually\n",
    "modifing it. Trixi.jl already has some implemented Callbacks."
   ],
   "metadata": {}
  },
  {
   "cell_type": "markdown",
   "source": [
    "To print a summary of the simulation setup at the begining of main loop\n",
    "and to reset we use `SummaryCallback`."
   ],
   "metadata": {}
  },
  {
   "outputs": [],
   "cell_type": "code",
   "source": [
    "summary_callback = SummaryCallback()"
   ],
   "metadata": {},
   "execution_count": null
  },
  {
   "cell_type": "markdown",
   "source": [
    "Also we want to analyse the current state of the solution in regular intervals using\n",
    "`AnalysisCallback`."
   ],
   "metadata": {}
  },
  {
   "outputs": [],
   "cell_type": "code",
   "source": [
    "analysis_callback = AnalysisCallback(semi, interval=10)"
   ],
   "metadata": {},
   "execution_count": null
  },
  {
   "cell_type": "markdown",
   "source": [
    "It is also possible to controll the time step using `StepsizeCallback`.\n",
    "To get more details, look at\n",
    "[CFL based step size control](https://trixi-framework.github.io/Trixi.jl/stable/tutorials/time_stepping/#CFL-based-step-size-control)"
   ],
   "metadata": {}
  },
  {
   "outputs": [],
   "cell_type": "code",
   "source": [
    "stepsize_callback = StepsizeCallback(cfl=1.6)"
   ],
   "metadata": {},
   "execution_count": null
  },
  {
   "cell_type": "markdown",
   "source": [
    "Create a CallbackSet to collect all callbacks such that they can be passed to the ODE solver"
   ],
   "metadata": {}
  },
  {
   "outputs": [],
   "cell_type": "code",
   "source": [
    "callbacks = CallbackSet(summary_callback, analysis_callback, save_solution, stepsize_callback)"
   ],
   "metadata": {},
   "execution_count": null
  },
  {
   "cell_type": "markdown",
   "source": [
    "OrdinaryDiffEq.jl defines a wide range of\n",
    "[ODE solvers](https://docs.sciml.ai/DiffEqDocs/latest/solvers/ode_solve/). We will pass the ODE\n",
    "problem, the ODE solver and the callbacks into `solve` function. Also we have to specify\n",
    "explicitly the time step `dt`, which is necessary for the `StepsizeCallback`. And there is no\n",
    "need to save every step of the solution, we are only interested in the final result."
   ],
   "metadata": {}
  },
  {
   "outputs": [],
   "cell_type": "code",
   "source": [
    "sol = solve(ode, CarpenterKennedy2N54(williamson_condition=false),\n",
    "            dt=1.0, save_everystep=false, callback=callbacks);"
   ],
   "metadata": {},
   "execution_count": null
  },
  {
   "cell_type": "markdown",
   "source": [
    "Finally, we print the timer summary."
   ],
   "metadata": {}
  },
  {
   "outputs": [],
   "cell_type": "code",
   "source": [
    "summary_callback()"
   ],
   "metadata": {},
   "execution_count": null
  },
  {
   "cell_type": "markdown",
   "source": [
    "Now you can plot the solution as shown above, analyse it and improve your setup to make\n",
    "the solution stable, more accurate or more efficient."
   ],
   "metadata": {}
  },
  {
   "cell_type": "markdown",
   "source": [
    "## Next steps: changing Trixi.jl itself"
   ],
   "metadata": {}
  },
  {
   "cell_type": "markdown",
   "source": [
    "If you plan on editing Trixi.jl itself, you can download Trixi.jl locally and run it from\n",
    "the cloned directory:"
   ],
   "metadata": {}
  },
  {
   "cell_type": "markdown",
   "source": [
    "### Cloning Trixi.jl"
   ],
   "metadata": {}
  },
  {
   "cell_type": "markdown",
   "source": [
    "#### Windows"
   ],
   "metadata": {}
  },
  {
   "cell_type": "markdown",
   "source": [
    "If you are using Windows, you can clone Trixi.jl by using the GitHub Desktop tool:\n",
    "- If you do not have a GitHub account yet, create it on\n",
    "  the [GitHub website](https://github.com/join).\n",
    "- Download and install [GitHub Desktop](https://desktop.github.com/) and then log in into\n",
    "  your account.\n",
    "- Open GitHub Desktop, press `Ctrl+Shift+O`.\n",
    "- In the opened window, paste `trixi-framework/Trixi.jl` and choose the path to the folder where you want\n",
    "  to save Trixi.jl. Then click `Clone` and Trixi.jl will be cloned to your computer."
   ],
   "metadata": {}
  },
  {
   "cell_type": "markdown",
   "source": [
    "Now you cloned Trixi.jl and only need to tell Julia to use the local clone as the package sources:\n",
    "- Open a terminal using `Win+R` and `cmd`. Navigate to the folder with cloned Trixi.jl using `cd`.\n",
    "- Create new directory `run`, enter it, and start Julia with the `--project=.` flag:\n",
    "  ```shell\n",
    "  mkdir run\n",
    "  cd run\n",
    "  julia --project=.\n",
    "  ```\n",
    "- Now run the following commands to install all relevant packages:\n",
    "  ```julia\n",
    "  using Pkg; Pkg.develop(PackageSpec(path=\"..\")) # Install local Trixi.jl clone\n",
    "  Pkg.add([\"OrdinaryDiffEq\", \"Plots\"])  # Install additional packages\n",
    "  ```"
   ],
   "metadata": {}
  },
  {
   "cell_type": "markdown",
   "source": [
    "Now you already installed Trixi.jl from your local clone. Note that if you installed Trixi.jl this\n",
    "way, you always have to start Julia with the `--project` flag set to your `run` directory, e.g.,\n",
    "```shell\n",
    "julia --project=.\n",
    "```\n",
    "if already inside the `run` directory."
   ],
   "metadata": {}
  },
  {
   "cell_type": "markdown",
   "source": [
    "#### Linux"
   ],
   "metadata": {}
  },
  {
   "cell_type": "markdown",
   "source": [
    "You can clone Trixi.jl to your computer executing following commands:\n",
    "```shell\n",
    "git clone git@github.com:trixi-framework/Trixi.jl.git\n",
    "# In case of an error, try the following:\n",
    "# git clone https://github.com/trixi-framework/Trixi.jl\n",
    "cd Trixi.jl\n",
    "mkdir run\n",
    "cd run\n",
    "julia --project=. -e 'using Pkg; Pkg.develop(PackageSpec(path=\"..\"))' # Install local Trixi.jl clone\n",
    "julia -e 'using Pkg; Pkg.add([\"OrdinaryDiffEq\", \"Plots\"])' # Install additional packages'\n",
    "```\n",
    "Note that if you installed Trixi.jl this way,\n",
    "you always have to start Julia with the `--project` flag set to your `run` directory, e.g.,\n",
    "```shell\n",
    "julia --project=.\n",
    "```\n",
    "if already inside the `run` directory."
   ],
   "metadata": {}
  },
  {
   "cell_type": "markdown",
   "source": [
    "### For further reading"
   ],
   "metadata": {}
  },
  {
   "cell_type": "markdown",
   "source": [
    "To further delve into Trixi.jl, you may have a look at following tutorials.\n",
    "- Introduction to DG methods will teach you how to set up a simple way to\n",
    "  approximate the solution of a hyperbolic partial differential equation. It will be especially\n",
    "  useful to learn about the\n",
    "  [Discontinuous Galerkin method](https://en.wikipedia.org/wiki/Discontinuous_Galerkin_method)\n",
    "  and the way it is implemented in Trixi.jl. Detailed explanations of the code provide a quick start\n",
    "  with Trixi.jl.\n",
    "- Adding a new scalar conservation law and\n",
    "  Adding a non-conservative equation\n",
    "  describe how to add new physics models that are not yet included in Trixi.jl.\n",
    "- Callbacks gives an overview of how to regularly execute specific actions\n",
    "  during a simulation, e.g., to store the solution or the adapt the mesh."
   ],
   "metadata": {}
  }
 ],
 "nbformat_minor": 3,
 "metadata": {
  "language_info": {
   "file_extension": ".jl",
   "mimetype": "application/julia",
   "name": "julia",
   "version": "1.8.5"
  },
  "kernelspec": {
   "name": "julia-1.8",
   "display_name": "Julia 1.8.5",
   "language": "julia"
  }
 },
 "nbformat": 4
}
