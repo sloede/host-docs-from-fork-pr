{
 "cells": [
  {
   "cell_type": "markdown",
   "source": [
    "# 1: Getting started"
   ],
   "metadata": {}
  },
  {
   "cell_type": "markdown",
   "source": [
    "**Note:** To improve responsiveness via caching, the notebooks are updated only once a week. They are only\n",
    "available for the latest stable release of Trixi.jl at the time of caching."
   ],
   "metadata": {}
  },
  {
   "cell_type": "markdown",
   "source": [
    "Trixi.jl is a numerical simulation framework for conservation laws and\n",
    "is written in the [Julia programming language](https://julialang.org/).\n",
    "This tutorial is intended for beginners in Julia and Trixi.jl.\n",
    "After reading it, you will know how to install Julia and Trixi.jl on your computer,\n",
    "and you will be able to download setup files from our GitHub repository, modify them,\n",
    "and run simulations."
   ],
   "metadata": {}
  },
  {
   "cell_type": "markdown",
   "source": [
    "## Julia installation"
   ],
   "metadata": {}
  },
  {
   "cell_type": "markdown",
   "source": [
    "Trixi.jl works with the current stable Julia release. More information about Julia support can be\n",
    "found in the [`README.md`](https://github.com/trixi-framework/Trixi.jl#installation) file.\n",
    "A detailed description of the installation process can be found in the\n",
    "[Julia installation instructions](https://julialang.org/downloads/platform/).\n",
    "But you can follow also our short installation guidelines for Windows and Linux below."
   ],
   "metadata": {}
  },
  {
   "cell_type": "markdown",
   "source": [
    "### Windows"
   ],
   "metadata": {}
  },
  {
   "cell_type": "markdown",
   "source": [
    "- Download Julia installer for Windows from [https://julialang.org/downloads/](https://julialang.org/downloads/). Make sure\n",
    "  that you choose the right version of installer (64-bit or 32-bit) according to your computer.\n",
    "- Open the downloaded installer.\n",
    "- Paste an installation directory path or find it using a file manager (select `Browse`).\n",
    "- Select `Next`.\n",
    "- Check the `Add Julia to PATH` option to add Julia to the environment variables.\n",
    "  This makes it possible to run Julia in the terminal from any directory by only typing `julia`.\n",
    "- Select `Next`, then Julia will be installed."
   ],
   "metadata": {}
  },
  {
   "cell_type": "markdown",
   "source": [
    "Now you can verify, that Julia is installed:\n",
    "- Press `Win+R` on a keyboard.\n",
    "- Enter `cmd` in opened window.\n",
    "- Enter in a terminal `julia`."
   ],
   "metadata": {}
  },
  {
   "cell_type": "markdown",
   "source": [
    "Then Julia will be invoked. To close Julia enter `exit()` or press `Ctrl+d`."
   ],
   "metadata": {}
  },
  {
   "cell_type": "markdown",
   "source": [
    "### Linux"
   ],
   "metadata": {}
  },
  {
   "cell_type": "markdown",
   "source": [
    "- Open a terminal and navigate (using `cd`) to the directory, where you want to store Julia.\n",
    "- To install Julia, get a link to the latest version of Julia from the\n",
    "  [Julia website](https://julialang.org/downloads/), then download an archive file by executing:\n",
    "  ```shell\n",
    "  wget https://julialang-s3.julialang.org/bin/linux/... # your link goes here\n",
    "  ```\n",
    "- Unpack the downloaded file with:\n",
    "  ```shell\n",
    "  tar xf julia-....tar.gz # your archive filename goes here\n",
    "  ```"
   ],
   "metadata": {}
  },
  {
   "cell_type": "markdown",
   "source": [
    "Now you can verify that Julia is installed entering `<Julia directory>/bin/julia`\n",
    "(e.g. `julia-1.8.5/bin/julia`) command in a terminal. `<Julia directory>` is the directory where\n",
    "Julia is installed.\n",
    "Then Julia will be invoked. To close Julia, enter `exit()` or press `Ctrl+d`."
   ],
   "metadata": {}
  },
  {
   "cell_type": "markdown",
   "source": [
    "Note, that further in the tutorial Julia will be invoked only typing `julia` in a terminal.\n",
    "To enable that, you have to add\n",
    "[Julia to the PATH](https://julialang.org/downloads/platform/#linux_and_freebsd)."
   ],
   "metadata": {}
  },
  {
   "cell_type": "markdown",
   "source": [
    "## Trixi.jl installation"
   ],
   "metadata": {}
  },
  {
   "cell_type": "markdown",
   "source": [
    "Trixi.jl and its related tools are registered Julia packages, thus their installation\n",
    "happens inside Julia.\n",
    "For a smooth workflow experience with Trixi.jl, you need to install\n",
    "[Trixi.jl](https://github.com/trixi-framework/Trixi.jl),\n",
    "[OrdinaryDiffEq.jl](https://github.com/SciML/OrdinaryDiffEq.jl) and\n",
    "[Plots.jl](https://github.com/JuliaPlots/Plots.jl)."
   ],
   "metadata": {}
  },
  {
   "cell_type": "markdown",
   "source": [
    "- Open a terminal and invoke Julia (Windows and Linux: type `julia`).\n",
    "- Execute following commands:\n",
    "  ```julia\n",
    "  import Pkg\n",
    "  Pkg.add([\"OrdinaryDiffEq\", \"Plots\", \"Trixi\"])\n",
    "  ```"
   ],
   "metadata": {}
  },
  {
   "cell_type": "markdown",
   "source": [
    "Now you have installed all these\n",
    "packages. [OrdinaryDiffEq.jl](https://github.com/SciML/OrdinaryDiffEq.jl) provides time integration schemes\n",
    "used by Trixi.jl and [Plots.jl](https://github.com/JuliaPlots/Plots.jl) can be used to directly\n",
    "visualize Trixi.jl results from the Julia REPL."
   ],
   "metadata": {}
  },
  {
   "cell_type": "markdown",
   "source": [
    "## Usage"
   ],
   "metadata": {}
  },
  {
   "cell_type": "markdown",
   "source": [
    "### Running a simulation"
   ],
   "metadata": {}
  },
  {
   "cell_type": "markdown",
   "source": [
    "To get you started, Trixi.jl has a large set\n",
    "of [example setups](https://github.com/trixi-framework/Trixi.jl/tree/main/examples), that can be taken\n",
    "as a basis for your future investigations.\n",
    "In Trixi.jl, we call these setup files \"elixirs\", since they contain Julia code that\n",
    "takes parts of Trixi.jl and combines them into something new."
   ],
   "metadata": {}
  },
  {
   "cell_type": "markdown",
   "source": [
    "Now execute one of the examples using the `trixi_include`\n",
    "function. `trixi_include(...)` expects\n",
    "a single string argument with a path to a file containing Julia code.\n",
    "`joinpath(...)` join a path components into a full path.\n",
    "The `examples_dir` function returns a path to the\n",
    "[`examples`](https://github.com/trixi-framework/Trixi.jl/tree/main/examples) folder\n",
    "that has been locally downloaded while installing Trixi.jl."
   ],
   "metadata": {}
  },
  {
   "cell_type": "markdown",
   "source": [
    "Let's execute a short two-dimensional problem setup. It approximates the solution of\n",
    "the compressible Euler equations in 2D for an ideal gas (`CompressibleEulerEquations2D`)\n",
    "with a weak blast wave as the initial condition."
   ],
   "metadata": {}
  },
  {
   "cell_type": "markdown",
   "source": [
    "Start Julia in a terminal and execute following code:"
   ],
   "metadata": {}
  },
  {
   "cell_type": "markdown",
   "source": [
    "```julia\n",
    "using Trixi, OrdinaryDiffEq\n",
    "trixi_include(joinpath(examples_dir(), \"tree_2d_dgsem\", \"elixir_euler_ec.jl\"))\n",
    "```"
   ],
   "metadata": {}
  },
  {
   "cell_type": "markdown",
   "source": [
    "To analyze the result of the computation, we can use the Plots.jl package and the function\n",
    "`plot(...)`, which creates a graphical representation of the solution. `sol` is a variable defined in\n",
    "executed example and it contains the solution at the final moment of the simulation."
   ],
   "metadata": {}
  },
  {
   "outputs": [],
   "cell_type": "code",
   "source": [
    "using Plots\n",
    "plot(sol)"
   ],
   "metadata": {},
   "execution_count": null
  },
  {
   "cell_type": "markdown",
   "source": [
    "To obtain list of all Trixi.jl elixirs execute\n",
    "`get_examples`. It returns the path to all example setups."
   ],
   "metadata": {}
  },
  {
   "outputs": [],
   "cell_type": "code",
   "source": [
    "get_examples()"
   ],
   "metadata": {},
   "execution_count": null
  },
  {
   "cell_type": "markdown",
   "source": [
    "Editing an existing elixirs is the best way to start your first own investigation using Trixi.jl."
   ],
   "metadata": {}
  },
  {
   "cell_type": "markdown",
   "source": [
    "### Getting an existing setup file"
   ],
   "metadata": {}
  },
  {
   "cell_type": "markdown",
   "source": [
    "To edit an existing elixir, you first have to find a suitable one and then copy it to a local folder.\n",
    "Let's have a look how to download the\n",
    "`elixir_euler_ec.jl` elixir used in the previous section from the\n",
    "[Trixi.jl GitHub repository](https://github.com/trixi-framework/Trixi.jl)."
   ],
   "metadata": {}
  },
  {
   "cell_type": "markdown",
   "source": [
    "- All examples are located inside\n",
    "  the [`examples`](https://github.com/trixi-framework/Trixi.jl/tree/main/examples) folder.\n",
    "- Navigate to the\n",
    "  file [`elixir_euler_ec.jl`](https://github.com/trixi-framework/Trixi.jl/blob/main/examples/tree_2d_dgsem/elixir_euler_ec.jl).\n",
    "- Right-click the `Raw` button on the right side of the webpage and choose `Save as...` (or `Save Link As...`).\n",
    "- Choose a folder and save the file."
   ],
   "metadata": {}
  },
  {
   "cell_type": "markdown",
   "source": [
    "### Modifying an existing setup"
   ],
   "metadata": {}
  },
  {
   "cell_type": "markdown",
   "source": [
    "For example, we will change the initial condition for calculations that occur in\n",
    "`elixir_euler_ec.jl`. In this example we consider the compressible Euler equations in two spatial dimensions,\n",
    "$$\n",
    "\\frac{\\partial}{\\partial t}\n",
    "\\begin{pmatrix}\n",
    "\\rho \\\\ \\rho v_1 \\\\ \\rho v_2 \\\\ \\rho e\n",
    "\\end{pmatrix}\n",
    "+\n",
    "\\frac{\\partial}{\\partial x}\n",
    "\\begin{pmatrix}\n",
    "\\rho v_1 \\\\ \\rho v_1^2 + p \\\\ \\rho v_1 v_2 \\\\ (\\rho e +p) v_1\n",
    "\\end{pmatrix}\n",
    "+\n",
    "\\frac{\\partial}{\\partial y}\n",
    "\\begin{pmatrix}\n",
    "\\rho v_2 \\\\ \\rho v_1 v_2 \\\\ \\rho v_2^2 + p \\\\ (\\rho e +p) v_2\n",
    "\\end{pmatrix}\n",
    "=\n",
    "\\begin{pmatrix}\n",
    "0 \\\\ 0 \\\\ 0 \\\\ 0\n",
    "\\end{pmatrix},\n",
    "$$\n",
    "for an ideal gas with the specific heat ratio $\\gamma$.\n",
    "Here, $\\rho$ is the density, $v_1$ and $v_2$ are the velocities, $e$ is the specific total\n",
    "energy, and\n",
    "$$\n",
    "p = (\\gamma - 1) \\left( \\rho e - \\frac{1}{2} \\rho (v_1^2+v_2^2) \\right)\n",
    "$$\n",
    "is the pressure.\n",
    "Initial conditions consist of initial values for $\\rho$, $\\rho v_1$,\n",
    "$\\rho v_2$ and $\\rho e$.\n",
    "One of the common initial conditions for the compressible Euler equations is a simple density wave.\n",
    "Let's implement it."
   ],
   "metadata": {}
  },
  {
   "cell_type": "markdown",
   "source": [
    "- Open the downloaded file `elixir_euler_ec.jl` with a text editor.\n",
    "- Go to the line with the following code:\n",
    "  ```julia\n",
    "  initial_condition = initial_condition_weak_blast_wave\n",
    "  ```\n",
    "  Here, `initial_condition_weak_blast_wave` is used as the initial condition.\n",
    "- Comment out the line using the `#` symbol:\n",
    "  ```julia\n",
    "  # initial_condition = initial_condition_weak_blast_wave\n",
    "  ```\n",
    "- Now you can create your own initial conditions. Add the following code after the\n",
    "  commented line:"
   ],
   "metadata": {}
  },
  {
   "outputs": [],
   "cell_type": "code",
   "source": [
    "    function initial_condition_density_waves(x, t, equations::CompressibleEulerEquations2D)\n",
    "        v1 = 0.1 # velocity along x-axis\n",
    "        v2 = 0.2 # velocity along y-axis\n",
    "        rho = 1.0 + 0.98 * sin(pi * (sum(x) - t * (v1 + v2))) # density wave profile\n",
    "        p = 20 # pressure\n",
    "        rho_e = p / (equations.gamma - 1) + 1/2 * rho * (v1^2 + v2^2)\n",
    "        return SVector(rho, rho*v1, rho*v2, rho_e)\n",
    "    end\n",
    "    initial_condition = initial_condition_density_waves"
   ],
   "metadata": {},
   "execution_count": null
  },
  {
   "cell_type": "markdown",
   "source": [
    "- Execute the following code one more time, but instead of `path/to/file` paste the path to the\n",
    "  `elixir_euler_ec.jl` file that you just edited.\n",
    "  ```julia\n",
    "  using Trixi\n",
    "  trixi_include(path/to/file)\n",
    "  using Plots\n",
    "  plot(sol)\n",
    "  ```\n",
    "Then you will obtain a new solution from running the simulation with a different initial condition."
   ],
   "metadata": {}
  },
  {
   "cell_type": "markdown",
   "source": [
    "Feel free to make further changes to the initial condition to observe different solutions."
   ],
   "metadata": {}
  },
  {
   "cell_type": "markdown",
   "source": [
    "Now you are able to download, modify and execute simulation setups for Trixi.jl."
   ],
   "metadata": {}
  },
  {
   "cell_type": "markdown",
   "source": [
    "### Create first setup"
   ],
   "metadata": {}
  },
  {
   "cell_type": "markdown",
   "source": [
    "In this part of the tutorial, we will consider a creation of the first Trixi.jl setup, which is\n",
    "an extension of\n",
    "[`elixir_advection_basic.jl`](https://github.com/trixi-framework/Trixi.jl/blob/main/examples/tree_2d_dgsem/elixir_advection_basic.jl).\n",
    "Trixi.jl has a common basic structure of the setup, so you can create your own by extending\n",
    "the following example."
   ],
   "metadata": {}
  },
  {
   "cell_type": "markdown",
   "source": [
    "Let's consider the linear advection equation in two-dimensional spatial domain\n",
    "[-1.0, 1.0]⨯[-1.0, 1.0] with a source term.\n",
    "$$\n",
    "\\partial_t u(t,x,y) + 0.2 \\partial_x u(t,x,y) - 0.7 \\partial_y u(t,x,y) = - 2 \\exp(-t)\n",
    "\\sin\\bigl(2 \\pi (x - t) \\bigr) \\sin\\bigl(2 \\pi (y - t) \\bigr)\n",
    "$$\n",
    "With an initial condition\n",
    "$$\n",
    "u(0,x,y) = \\sin\\bigl(\\pi x \\bigr) \\sin\\bigl(\\pi y \\bigr).\n",
    "$$"
   ],
   "metadata": {}
  },
  {
   "cell_type": "markdown",
   "source": [
    "The first step is to create and open a file with the .jl extension. You can do this with your\n",
    "favorite text editor."
   ],
   "metadata": {}
  },
  {
   "cell_type": "markdown",
   "source": [
    "First you need to connect the packages that you will use in your setup. By default, you will\n",
    "always need Trixi.jl itself and [OrdinaryDiffEq.jl](https://github.com/SciML/OrdinaryDiffEq.jl)."
   ],
   "metadata": {}
  },
  {
   "outputs": [],
   "cell_type": "code",
   "source": [
    "using Trixi\n",
    "using OrdinaryDiffEq"
   ],
   "metadata": {},
   "execution_count": null
  },
  {
   "cell_type": "markdown",
   "source": [
    "The next thing to do is to choose an equation that is suitable for your problem. To see all the\n",
    "currently implemented equations, take a look at\n",
    "[`src/equations`](https://github.com/trixi-framework/Trixi.jl/tree/main/src/equations).\n",
    "If you are interested in adding a new physics model that has not yet been implemented in\n",
    "Trixi.jl, take a look at\n",
    "adding a new scalar conservation law and\n",
    "adding a non-conservative equation."
   ],
   "metadata": {}
  },
  {
   "cell_type": "markdown",
   "source": [
    "The linear scalar advection equation is already implemented in Trixi.jl as\n",
    "`LinearScalarAdvectionEquation2D`. For which we need to define a two-dimensional parameter\n",
    "named advection_velocity, suitable for our problem is (0.2, -0.7)."
   ],
   "metadata": {}
  },
  {
   "outputs": [],
   "cell_type": "code",
   "source": [
    "advection_velocity = (0.2, -0.7)\n",
    "equations = LinearScalarAdvectionEquation2D(advection_velocity)"
   ],
   "metadata": {},
   "execution_count": null
  },
  {
   "cell_type": "markdown",
   "source": [
    "To solve our problem numerically using Trixi.jl, we have to define an instruction for spatial\n",
    "discretization. To do it, we set up a mesh. The most widely supported in Trixi.jl is\n",
    "`TreeMesh`. The spatial domain used is [-1.0, 1.0]⨯[-1.0, 1.0]. We also set a number of\n",
    "elements in the mesh using `initial_refinement_level`, which describes the initial height of the\n",
    "tree mesh. The variable `n_cells_max` is used to limit the number of elements in the mesh, which\n",
    "cannot be exceeded due to adaptive mesh refinement."
   ],
   "metadata": {}
  },
  {
   "cell_type": "markdown",
   "source": [
    "All minimum and all maximum coordinates must be combined into `Tuples`."
   ],
   "metadata": {}
  },
  {
   "outputs": [],
   "cell_type": "code",
   "source": [
    "coordinates_min = (-1.0, -1.0)\n",
    "coordinates_max = ( 1.0,  1.0)\n",
    "mesh = TreeMesh(coordinates_min, coordinates_max,\n",
    "                initial_refinement_level = 4,\n",
    "                n_cells_max = 30_000)"
   ],
   "metadata": {},
   "execution_count": null
  },
  {
   "cell_type": "markdown",
   "source": [
    "To approximate the solution of the defined model, we create a DG solver. The solution in each of\n",
    "the recently defined mesh elements will be approximated by a polynomial of degree `polydeg`.\n",
    "See more in the Introduction to DG methods."
   ],
   "metadata": {}
  },
  {
   "outputs": [],
   "cell_type": "code",
   "source": [
    "solver = DGSEM(polydeg=3)"
   ],
   "metadata": {},
   "execution_count": null
  },
  {
   "cell_type": "markdown",
   "source": [
    "Now we need to define the initial conditions for our problem. All the already implemented\n",
    "initial conditions for `LinearScalarAdvectionEquation2D` can be found in\n",
    "[`src/equations/linear_scalar_advection_2d.jl`](https://github.com/trixi-framework/Trixi.jl/blob/main/src/equations/linear_scalar_advection_2d.jl).\n",
    "If you want to use, for example, a Gaussian pulse, it can be used as follows.\n",
    "```julia\n",
    "initial_conditions = initial_condition_gauss\n",
    "```\n",
    "But for our problem, we define our own initial conditions.\n",
    "$$\n",
    "u(0,x,y) = \\sin\\bigl(\\pi x \\bigr) \\sin\\bigl(\\pi y \\bigr)\n",
    "$$\n",
    "The initial conditions function must take coordinates, time and the equation itself as arguments\n",
    "and return the initial conditions as a static vector `SVector`. Following the same structure, you\n",
    "can define your own initial conditions."
   ],
   "metadata": {}
  },
  {
   "outputs": [],
   "cell_type": "code",
   "source": [
    "function initial_condition_sin(x, t, equations::LinearScalarAdvectionEquation2D)\n",
    "    scalar = sinpi(x[1]) * sinpi(x[2])\n",
    "    return SVector(scalar)\n",
    "end\n",
    "initial_condition = initial_condition_sin"
   ],
   "metadata": {},
   "execution_count": null
  },
  {
   "cell_type": "markdown",
   "source": [
    "The next step is to define the function of the source term corresponding to our problem.\n",
    "$$\n",
    "f(t,u,x,y) = - 2 \\exp(-t) \\sin\\bigl(2 \\pi (x - t) \\bigr) \\sin\\bigl(2 \\pi (y - t) \\bigr)\n",
    "$$\n",
    "This function must take the target variable, coordinates, time and the\n",
    "equation itself as arguments and return the source term as a static vector `SVector`."
   ],
   "metadata": {}
  },
  {
   "outputs": [],
   "cell_type": "code",
   "source": [
    "function source_term_exp_sin(u, x, t, equations::LinearScalarAdvectionEquation2D)\n",
    "    scalar = - 2 * exp(-t) * sinpi(2*(x[1] - t)) * sinpi(2*(x[2] - t))\n",
    "    return SVector(scalar)\n",
    "end"
   ],
   "metadata": {},
   "execution_count": null
  },
  {
   "cell_type": "markdown",
   "source": [
    "Now we are collecting all the information that will be needed to define spatial discretization\n",
    "and to create an ODE problem with a time span from 0.0 s to 1.0 s."
   ],
   "metadata": {}
  },
  {
   "outputs": [],
   "cell_type": "code",
   "source": [
    "semi = SemidiscretizationHyperbolic(mesh, equations, initial_condition, solver;\n",
    "                                    source_terms = source_term_exp_sin)\n",
    "tspan = (0.0, 1.0)\n",
    "ode = semidiscretize(semi, tspan);"
   ],
   "metadata": {},
   "execution_count": null
  },
  {
   "cell_type": "markdown",
   "source": [
    "At this point, our problem is defined. We will use the `solve` function defined in\n",
    "OrdinaryDiffEq.jl to get the solution. OrdinaryDiffEq.jl gives us ability to customize the solver\n",
    "using callbacks without actually modifying it. Trixi.jl already has some implemented\n",
    "Callbacks. The most widely used callbacks in Trixi.jl are\n",
    "[step control callbacks](https://docs.sciml.ai/DiffEqCallbacks/stable/step_control/) that are\n",
    "activated at the end of each time step to perform some actions, e.g. to print a statistics.\n",
    "We will show you how to use some of the common callbacks."
   ],
   "metadata": {}
  },
  {
   "cell_type": "markdown",
   "source": [
    "To print a summary of the simulation setup at the beginning of solve-loop\n",
    "and to reset timers we use `SummaryCallback`."
   ],
   "metadata": {}
  },
  {
   "outputs": [],
   "cell_type": "code",
   "source": [
    "summary_callback = SummaryCallback()"
   ],
   "metadata": {},
   "execution_count": null
  },
  {
   "cell_type": "markdown",
   "source": [
    "Also we want to analyse the current state of the solution in regular intervals.\n",
    "`AnalysisCallback` outputs some useful statistical information during the solving process\n",
    "every `interval` time steps."
   ],
   "metadata": {}
  },
  {
   "outputs": [],
   "cell_type": "code",
   "source": [
    "analysis_callback = AnalysisCallback(semi, interval = 5)"
   ],
   "metadata": {},
   "execution_count": null
  },
  {
   "cell_type": "markdown",
   "source": [
    "It is also possible to control the time step size using `StepsizeCallback` if the time\n",
    "integration method isn't adaptive itself. To get more details, look at\n",
    "CFL based step size control."
   ],
   "metadata": {}
  },
  {
   "outputs": [],
   "cell_type": "code",
   "source": [
    "stepsize_callback = StepsizeCallback(cfl = 1.6)"
   ],
   "metadata": {},
   "execution_count": null
  },
  {
   "cell_type": "markdown",
   "source": [
    "To save the current numerical solution in regular intervals we use\n",
    "`SaveSolutionCallback`. We set the interval equal 5, which means that the solution will\n",
    "be saved every 5 time steps. Also we would like to save the initial and final solutions. Solution\n",
    "will be saved as a HDF5 file located in the `out` folder. Afterwards it is possible to visualize\n",
    "the solution from the saved files using Trixi2Vtk.jl and ParaView, this is described below in the\n",
    "section Visualize the solution."
   ],
   "metadata": {}
  },
  {
   "outputs": [],
   "cell_type": "code",
   "source": [
    "save_solution = SaveSolutionCallback(interval = 5,\n",
    "                                     save_initial_solution = true,\n",
    "                                     save_final_solution = true)"
   ],
   "metadata": {},
   "execution_count": null
  },
  {
   "cell_type": "markdown",
   "source": [
    "Another useful callback is `SaveRestartCallback`. It saves information for restarting\n",
    "in regular intervals, which we set to 100 time steps. Also we are interested in saving the\n",
    "restart file for the final solution. To perform a restart, you need to configure the restart\n",
    "setup in a special way, which is described in the section Restart simulation."
   ],
   "metadata": {}
  },
  {
   "outputs": [],
   "cell_type": "code",
   "source": [
    "save_restart = SaveRestartCallback(interval = 100, save_final_restart = true)"
   ],
   "metadata": {},
   "execution_count": null
  },
  {
   "cell_type": "markdown",
   "source": [
    "Create a `CallbackSet` to collect all callbacks so that they can be passed to the `solve`\n",
    "function."
   ],
   "metadata": {}
  },
  {
   "outputs": [],
   "cell_type": "code",
   "source": [
    "callbacks = CallbackSet(summary_callback, analysis_callback, stepsize_callback, save_solution,\n",
    "                        save_restart)"
   ],
   "metadata": {},
   "execution_count": null
  },
  {
   "cell_type": "markdown",
   "source": [
    "The last step is to choose the time integration method, OrdinaryDiffEq.jl defines a wide range of\n",
    "[ODE solvers](https://docs.sciml.ai/DiffEqDocs/latest/solvers/ode_solve/), e.g.\n",
    "`CarpenterKennedy2N54(williamson_condition = false)`. We will pass the ODE\n",
    "problem, the ODE solver and the callbacks to the `solve` function. Also, to use\n",
    "`StepsizeCallback`, we must explicitly specify the time step `dt`, the selected value is not\n",
    "important, because it will be overwritten by `StepsizeCallback`. And there is no need to save\n",
    "every step of the solution, we are only interested in the final result."
   ],
   "metadata": {}
  },
  {
   "outputs": [],
   "cell_type": "code",
   "source": [
    "sol = solve(ode, CarpenterKennedy2N54(williamson_condition = false), dt = 1.0,\n",
    "            save_everystep = false, callback = callbacks);"
   ],
   "metadata": {},
   "execution_count": null
  },
  {
   "cell_type": "markdown",
   "source": [
    "Finally, we print the timer summary."
   ],
   "metadata": {}
  },
  {
   "outputs": [],
   "cell_type": "code",
   "source": [
    "summary_callback()"
   ],
   "metadata": {},
   "execution_count": null
  },
  {
   "cell_type": "markdown",
   "source": [
    "Now you can plot the solution as shown below, analyse it and improve the stability, accuracy or\n",
    "efficiency of your setup modifying it."
   ],
   "metadata": {}
  },
  {
   "cell_type": "markdown",
   "source": [
    "### Visualize the solution"
   ],
   "metadata": {}
  },
  {
   "cell_type": "markdown",
   "source": [
    "In the previous part of the tutorial, we calculated the final solution of the given problem, now we want\n",
    "to visualize it. A more detailed explanation of visualization methods can be found in the section\n",
    "Visualization."
   ],
   "metadata": {}
  },
  {
   "cell_type": "markdown",
   "source": [
    "#### Using Plots.jl"
   ],
   "metadata": {}
  },
  {
   "cell_type": "markdown",
   "source": [
    "The first option is to use the [Plots.jl](https://github.com/JuliaPlots/Plots.jl) package\n",
    "directly after the calculation, when the solution is saved in the `sol` variable. We connect the\n",
    "package and use the `plot` function."
   ],
   "metadata": {}
  },
  {
   "outputs": [],
   "cell_type": "code",
   "source": [
    "using Plots\n",
    "plot(sol)"
   ],
   "metadata": {},
   "execution_count": null
  },
  {
   "cell_type": "markdown",
   "source": [
    "To show the mesh on the plot, we need to extract the visualization data from the solution as\n",
    "a `PlotData2D` object. Mesh extraction is possible using the `getmesh` function.\n",
    "Plots.jl has the `plot!` function that allows you to modify an already built graph."
   ],
   "metadata": {}
  },
  {
   "outputs": [],
   "cell_type": "code",
   "source": [
    "pd = PlotData2D(sol)\n",
    "plot!(getmesh(pd))"
   ],
   "metadata": {},
   "execution_count": null
  },
  {
   "cell_type": "markdown",
   "source": [
    "#### Using Trixi2Vtk.jl"
   ],
   "metadata": {}
  },
  {
   "cell_type": "markdown",
   "source": [
    "Another way to visualize a solution is to extract it from a saved HDF5 file. After we used the\n",
    "`solve` function there is a file with the final solution. It is located in the `out` folder and\n",
    "is named as follows: `solution_index.h5`. The `index` is the final time step of the solution\n",
    "that is padded to 6 digits with zeros from the beginning. With Trixi2Vtk you\n",
    "can convert the HDF5 output file generated by Trixi.jl into a VTK file. This can be used in\n",
    "visualization tools such as [ParaView](https://www.paraview.org) or\n",
    "[VisIt](https://visit.llnl.gov) to plot the solution. The important thing is that currently\n",
    "Trixi2Vtk.jl supports conversion only for solutions in 2D and 3D spatial domains."
   ],
   "metadata": {}
  },
  {
   "cell_type": "markdown",
   "source": [
    "If you haven't added a Trixi2Vtk.jl to your project yet, you can add it as follows.\n",
    "```julia\n",
    "import Pkg\n",
    "Pkg.add([\"Trixi2Vtk\"])\n",
    "```\n",
    "Now we are connecting the Trixi2Vtk.jl package and convert the file `out/solution_000018.h5` with\n",
    "the final solution using the `trixi2vtk` function saving the resulted file in the\n",
    "`out` folder."
   ],
   "metadata": {}
  },
  {
   "outputs": [],
   "cell_type": "code",
   "source": [
    "using Trixi2Vtk\n",
    "trixi2vtk(joinpath(\"out\", \"solution_000018.h5\"), output_directory=\"out\")"
   ],
   "metadata": {},
   "execution_count": null
  },
  {
   "cell_type": "markdown",
   "source": [
    "Now two files `solution_000018.vtu` and `solution_000018_celldata.vtu` have been generated in the\n",
    "`out` folder. The first one contains all the information for visualizing the solution, the\n",
    "second one contains all the cell-based or discretization-based information."
   ],
   "metadata": {}
  },
  {
   "cell_type": "markdown",
   "source": [
    "Now let's visualize the solution from the generated files in ParaView. Follow this short\n",
    "instruction to get the visualization.\n",
    "- Download, install and open [ParaView](https://www.paraview.org/download/)\n",
    "- Press `Ctrl+O` and browse the generated files `solution_000018.vtu` and\n",
    "  `solution_000018_celldata.vtu` from the `out` folder.\n",
    "- In the upper-left corner in the Pipeline Browser window, left-click on the eye-icon near\n",
    "  `solution_000018.vtu`.\n",
    "- In the lower-left corner in the Properties window, change the Coloring from Solid Color to\n",
    "  scalar. Now final solution visualization is already generated.\n",
    "- Now let's add the mesh to the visualization. In the upper-left corner in the\n",
    "  Pipeline Browser window, left-click on the eye-icon near `solution_000018_celldata.vtu`.\n",
    "- In the lower-left corner in the Properties window, change the Representation from the Surface\n",
    "  to the Wireframe. Then a white grid should appear on the visualization.\n",
    "Now, if you followed the instructions exactly, you should get an analog image, as shown in the\n",
    "section Using Plots.jl."
   ],
   "metadata": {}
  },
  {
   "cell_type": "markdown",
   "source": [
    "## Next steps: changing Trixi.jl itself"
   ],
   "metadata": {}
  },
  {
   "cell_type": "markdown",
   "source": [
    "If you plan on editing Trixi.jl itself, you can download Trixi.jl locally and run it from\n",
    "the cloned directory:"
   ],
   "metadata": {}
  },
  {
   "cell_type": "markdown",
   "source": [
    "### Cloning Trixi.jl"
   ],
   "metadata": {}
  },
  {
   "cell_type": "markdown",
   "source": [
    "#### Windows"
   ],
   "metadata": {}
  },
  {
   "cell_type": "markdown",
   "source": [
    "If you are using Windows, you can clone Trixi.jl by using the GitHub Desktop tool:\n",
    "- If you do not have a GitHub account yet, create it on\n",
    "  the [GitHub website](https://github.com/join).\n",
    "- Download and install [GitHub Desktop](https://desktop.github.com/) and then log in into\n",
    "  your account.\n",
    "- Open GitHub Desktop, press `Ctrl+Shift+O`.\n",
    "- In the opened window, paste `trixi-framework/Trixi.jl` and choose the path to the folder where you want\n",
    "  to save Trixi.jl. Then click `Clone` and Trixi.jl will be cloned to your computer."
   ],
   "metadata": {}
  },
  {
   "cell_type": "markdown",
   "source": [
    "Now you cloned Trixi.jl and only need to tell Julia to use the local clone as the package sources:\n",
    "- Open a terminal using `Win+R` and `cmd`. Navigate to the folder with cloned Trixi.jl using `cd`.\n",
    "- Create new directory `run`, enter it, and start Julia with the `--project=.` flag:\n",
    "  ```shell\n",
    "  mkdir run\n",
    "  cd run\n",
    "  julia --project=.\n",
    "  ```\n",
    "- Now run the following commands to install all relevant packages:\n",
    "  ```julia\n",
    "  using Pkg; Pkg.develop(PackageSpec(path=\"..\")) # Install local Trixi.jl clone\n",
    "  Pkg.add([\"OrdinaryDiffEq\", \"Plots\"])  # Install additional packages\n",
    "  ```"
   ],
   "metadata": {}
  },
  {
   "cell_type": "markdown",
   "source": [
    "Now you already installed Trixi.jl from your local clone. Note that if you installed Trixi.jl this\n",
    "way, you always have to start Julia with the `--project` flag set to your `run` directory, e.g.,\n",
    "```shell\n",
    "julia --project=.\n",
    "```\n",
    "if already inside the `run` directory."
   ],
   "metadata": {}
  },
  {
   "cell_type": "markdown",
   "source": [
    "#### Linux"
   ],
   "metadata": {}
  },
  {
   "cell_type": "markdown",
   "source": [
    "You can clone Trixi.jl to your computer executing following commands:\n",
    "```shell\n",
    "git clone git@github.com:trixi-framework/Trixi.jl.git\n",
    "# In case of an error, try the following:\n",
    "# git clone https://github.com/trixi-framework/Trixi.jl\n",
    "cd Trixi.jl\n",
    "mkdir run\n",
    "cd run\n",
    "julia --project=. -e 'using Pkg; Pkg.develop(PackageSpec(path=\"..\"))' # Install local Trixi.jl clone\n",
    "julia -e 'using Pkg; Pkg.add([\"OrdinaryDiffEq\", \"Plots\"])' # Install additional packages'\n",
    "```\n",
    "Note that if you installed Trixi.jl this way,\n",
    "you always have to start Julia with the `--project` flag set to your `run` directory, e.g.,\n",
    "```shell\n",
    "julia --project=.\n",
    "```\n",
    "if already inside the `run` directory."
   ],
   "metadata": {}
  },
  {
   "cell_type": "markdown",
   "source": [
    "### For further reading"
   ],
   "metadata": {}
  },
  {
   "cell_type": "markdown",
   "source": [
    "To further delve into Trixi.jl, you may have a look at following tutorials.\n",
    "- Introduction to DG methods will teach you how to set up a simple way to\n",
    "  approximate the solution of a hyperbolic partial differential equation. It will be especially\n",
    "  useful to learn about the\n",
    "  [Discontinuous Galerkin method](https://en.wikipedia.org/wiki/Discontinuous_Galerkin_method)\n",
    "  and the way it is implemented in Trixi.jl. Detailed explanations of the code provide a quick start\n",
    "  with Trixi.jl.\n",
    "- Adding a new scalar conservation law and\n",
    "  Adding a non-conservative equation\n",
    "  describe how to add new physics models that are not yet included in Trixi.jl.\n",
    "- Callbacks gives an overview of how to regularly execute specific actions\n",
    "  during a simulation, e.g., to store the solution or the adapt the mesh."
   ],
   "metadata": {}
  }
 ],
 "nbformat_minor": 3,
 "metadata": {
  "language_info": {
   "file_extension": ".jl",
   "mimetype": "application/julia",
   "name": "julia",
   "version": "1.9.3"
  },
  "kernelspec": {
   "name": "julia-1.9",
   "display_name": "Julia 1.9.3",
   "language": "julia"
  }
 },
 "nbformat": 4
}
