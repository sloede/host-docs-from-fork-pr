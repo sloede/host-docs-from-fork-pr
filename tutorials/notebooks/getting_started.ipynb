{
 "cells": [
  {
   "cell_type": "markdown",
   "source": [
    "# 1.1: First steps in Trixi.jl: Getting started"
   ],
   "metadata": {}
  },
  {
   "cell_type": "markdown",
   "source": [
    "**Note:** To improve responsiveness via caching, the notebooks are updated only once a week. They are only\n",
    "available for the latest stable release of Trixi.jl at the time of caching."
   ],
   "metadata": {}
  },
  {
   "cell_type": "markdown",
   "source": [
    "Trixi.jl is a numerical simulation framework for conservation laws and\n",
    "is written in the [Julia programming language](https://julialang.org/).\n",
    "This tutorial is intended for beginners in Julia and Trixi.jl.\n",
    "After reading it, you will know how to install Julia and Trixi.jl on your computer,\n",
    "and you will be able to download setup files from our GitHub repository, modify them,\n",
    "and run simulations."
   ],
   "metadata": {}
  },
  {
   "cell_type": "markdown",
   "source": [
    "The contents of this tutorial:\n",
    "- Julia installation\n",
    "- Trixi.jl installation\n",
    "- Running a simulation\n",
    "- Getting an existing setup file\n",
    "- Modifying an existing setup"
   ],
   "metadata": {}
  },
  {
   "cell_type": "markdown",
   "source": [
    "## Julia installation"
   ],
   "metadata": {}
  },
  {
   "cell_type": "markdown",
   "source": [
    "Trixi.jl works with the current stable Julia release. More information about Julia support can be\n",
    "found in the [`README.md`](https://github.com/trixi-framework/Trixi.jl#installation) file.\n",
    "A detailed description of the installation process can be found in the\n",
    "[Julia installation instructions](https://julialang.org/downloads/platform/).\n",
    "But you can follow also our short installation guidelines for Windows and Linux below."
   ],
   "metadata": {}
  },
  {
   "cell_type": "markdown",
   "source": [
    "### Windows"
   ],
   "metadata": {}
  },
  {
   "cell_type": "markdown",
   "source": [
    "- Download Julia installer for Windows from [https://julialang.org/downloads/](https://julialang.org/downloads/).\n",
    "  Make sure that you choose the right version of the installer (64-bit or 32-bit) according to\n",
    "  your computer.\n",
    "- Open the downloaded installer.\n",
    "- Paste an installation directory path or find it using a file manager (select `Browse`).\n",
    "- Select `Next`.\n",
    "- Check the `Add Julia to PATH` option to add Julia to the environment variables.\n",
    "  This makes it possible to run Julia in the terminal from any directory by only typing `julia`.\n",
    "- Select `Next`, then Julia will be installed."
   ],
   "metadata": {}
  },
  {
   "cell_type": "markdown",
   "source": [
    "Now you can verify, that Julia is installed:\n",
    "- Press `Win+R` on a keyboard.\n",
    "- Enter `cmd` in opened window.\n",
    "- Enter in a terminal `julia`."
   ],
   "metadata": {}
  },
  {
   "cell_type": "markdown",
   "source": [
    "Then Julia will be started. To close Julia enter `exit()` or press `Ctrl+d`."
   ],
   "metadata": {}
  },
  {
   "cell_type": "markdown",
   "source": [
    "### Linux"
   ],
   "metadata": {}
  },
  {
   "cell_type": "markdown",
   "source": [
    "- Open a terminal and navigate (using `cd`) to the directory, where you want to store Julia.\n",
    "- To install Julia, get a link to the latest version of Julia from the\n",
    "  [Julia website](https://julialang.org/downloads/), then download an archive file by executing:\n",
    "  ```shell\n",
    "  wget https://julialang-s3.julialang.org/bin/linux/... # your link goes here\n",
    "  ```\n",
    "- Unpack the downloaded file with:\n",
    "  ```shell\n",
    "  tar xf julia-....tar.gz # your archive filename goes here\n",
    "  ```"
   ],
   "metadata": {}
  },
  {
   "cell_type": "markdown",
   "source": [
    "Now you can verify that Julia is installed entering `<Julia directory>/bin/julia`\n",
    "(e.g. `julia-1.8.5/bin/julia`) command in a terminal. `<Julia directory>` is the directory where\n",
    "Julia is installed.\n",
    "Then Julia will be started. To close Julia, enter `exit()` or press `Ctrl+d`."
   ],
   "metadata": {}
  },
  {
   "cell_type": "markdown",
   "source": [
    "Note, that further in the tutorial Julia will be started only typing `julia` in a terminal.\n",
    "To enable that, you have to add\n",
    "[Julia to the PATH](https://julialang.org/downloads/platform/#linux_and_freebsd)."
   ],
   "metadata": {}
  },
  {
   "cell_type": "markdown",
   "source": [
    "## Trixi.jl installation"
   ],
   "metadata": {}
  },
  {
   "cell_type": "markdown",
   "source": [
    "Trixi.jl and its related tools are registered Julia packages, thus their installation\n",
    "happens inside Julia.\n",
    "For a smooth workflow experience with Trixi.jl, you need to install\n",
    "[Trixi.jl](https://github.com/trixi-framework/Trixi.jl),\n",
    "[OrdinaryDiffEq.jl](https://github.com/SciML/OrdinaryDiffEq.jl) and\n",
    "[Plots.jl](https://github.com/JuliaPlots/Plots.jl)."
   ],
   "metadata": {}
  },
  {
   "cell_type": "markdown",
   "source": [
    "- Open a terminal and start Julia (Windows and Linux: type `julia`).\n",
    "- Execute following commands:\n",
    "  ```julia\n",
    "  import Pkg\n",
    "  Pkg.add([\"OrdinaryDiffEq\", \"Plots\", \"Trixi\"])\n",
    "  ```"
   ],
   "metadata": {}
  },
  {
   "cell_type": "markdown",
   "source": [
    "Now you have installed all these\n",
    "packages. [OrdinaryDiffEq.jl](https://github.com/SciML/OrdinaryDiffEq.jl) provides time\n",
    "integration schemes used by Trixi.jl and [Plots.jl](https://github.com/JuliaPlots/Plots.jl)\n",
    "can be used to directly visualize Trixi.jl results from the Julia REPL."
   ],
   "metadata": {}
  },
  {
   "cell_type": "markdown",
   "source": [
    "## Usage"
   ],
   "metadata": {}
  },
  {
   "cell_type": "markdown",
   "source": [
    "### Running a simulation"
   ],
   "metadata": {}
  },
  {
   "cell_type": "markdown",
   "source": [
    "To get you started, Trixi.jl has a large set\n",
    "of [example setups](https://github.com/trixi-framework/Trixi.jl/tree/main/examples), that can be\n",
    "taken as a basis for your future investigations. In Trixi.jl, we call these setup files\n",
    "\"elixirs\", since they contain Julia code that takes parts of Trixi.jl and combines them into\n",
    "something new."
   ],
   "metadata": {}
  },
  {
   "cell_type": "markdown",
   "source": [
    "Now execute one of the examples using the `trixi_include`\n",
    "function. `trixi_include(...)` expects\n",
    "a single string argument with a path to a file containing Julia code.\n",
    "`joinpath(...)` join a path components into a full path.\n",
    "The `examples_dir` function returns a path to the\n",
    "[`examples`](https://github.com/trixi-framework/Trixi.jl/tree/main/examples) folder\n",
    "that has been locally downloaded while installing Trixi.jl."
   ],
   "metadata": {}
  },
  {
   "cell_type": "markdown",
   "source": [
    "Let's execute a short two-dimensional problem setup. It approximates the solution of\n",
    "the compressible Euler equations in 2D for an ideal gas (`CompressibleEulerEquations2D`)\n",
    "with a weak blast wave as the initial condition."
   ],
   "metadata": {}
  },
  {
   "cell_type": "markdown",
   "source": [
    "Start Julia in a terminal and execute following code:"
   ],
   "metadata": {}
  },
  {
   "cell_type": "markdown",
   "source": [
    "```julia\n",
    "using Trixi, OrdinaryDiffEq\n",
    "trixi_include(joinpath(examples_dir(), \"tree_2d_dgsem\", \"elixir_euler_ec.jl\"))\n",
    "```"
   ],
   "metadata": {}
  },
  {
   "cell_type": "markdown",
   "source": [
    "To analyze the result of the computation, we can use the Plots.jl package and the function\n",
    "`plot(...)`, which creates a graphical representation of the solution. `sol` is a variable\n",
    "defined in executed example and it contains the solution at the final moment of the simulation."
   ],
   "metadata": {}
  },
  {
   "outputs": [],
   "cell_type": "code",
   "source": [
    "using Plots\n",
    "plot(sol)"
   ],
   "metadata": {},
   "execution_count": null
  },
  {
   "cell_type": "markdown",
   "source": [
    "To obtain list of all Trixi.jl elixirs execute\n",
    "`get_examples`. It returns the path to all example setups."
   ],
   "metadata": {}
  },
  {
   "outputs": [],
   "cell_type": "code",
   "source": [
    "get_examples()"
   ],
   "metadata": {},
   "execution_count": null
  },
  {
   "cell_type": "markdown",
   "source": [
    "Editing an existing elixirs is the best way to start your first own investigation using Trixi.jl."
   ],
   "metadata": {}
  },
  {
   "cell_type": "markdown",
   "source": [
    "### Getting an existing setup file"
   ],
   "metadata": {}
  },
  {
   "cell_type": "markdown",
   "source": [
    "To edit an existing elixir, you first have to find a suitable one and then copy it to a local\n",
    "folder. Let's have a look how to download the `elixir_euler_ec.jl` elixir used in the previous\n",
    "section from the [Trixi.jl GitHub repository](https://github.com/trixi-framework/Trixi.jl)."
   ],
   "metadata": {}
  },
  {
   "cell_type": "markdown",
   "source": [
    "- All examples are located inside\n",
    "  the [`examples`](https://github.com/trixi-framework/Trixi.jl/tree/main/examples) folder.\n",
    "- Navigate to the\n",
    "  file [`elixir_euler_ec.jl`](https://github.com/trixi-framework/Trixi.jl/blob/main/examples/tree_2d_dgsem/elixir_euler_ec.jl).\n",
    "- Right-click the `Raw` button on the right side of the webpage and choose `Save as...`\n",
    "  (or `Save Link As...`).\n",
    "- Choose a folder and save the file."
   ],
   "metadata": {}
  },
  {
   "cell_type": "markdown",
   "source": [
    "### Modifying an existing setup"
   ],
   "metadata": {}
  },
  {
   "cell_type": "markdown",
   "source": [
    "For example, we will change the initial condition for calculations that occur in\n",
    "`elixir_euler_ec.jl`. In this example we consider the compressible Euler equations in two spatial\n",
    "dimensions,\n",
    "$$\n",
    "\\frac{\\partial}{\\partial t}\n",
    "\\begin{pmatrix}\n",
    "\\rho \\\\ \\rho v_1 \\\\ \\rho v_2 \\\\ \\rho e\n",
    "\\end{pmatrix}\n",
    "+\n",
    "\\frac{\\partial}{\\partial x}\n",
    "\\begin{pmatrix}\n",
    "\\rho v_1 \\\\ \\rho v_1^2 + p \\\\ \\rho v_1 v_2 \\\\ (\\rho e +p) v_1\n",
    "\\end{pmatrix}\n",
    "+\n",
    "\\frac{\\partial}{\\partial y}\n",
    "\\begin{pmatrix}\n",
    "\\rho v_2 \\\\ \\rho v_1 v_2 \\\\ \\rho v_2^2 + p \\\\ (\\rho e +p) v_2\n",
    "\\end{pmatrix}\n",
    "=\n",
    "\\begin{pmatrix}\n",
    "0 \\\\ 0 \\\\ 0 \\\\ 0\n",
    "\\end{pmatrix},\n",
    "$$\n",
    "for an ideal gas with the specific heat ratio $\\gamma$.\n",
    "Here, $\\rho$ is the density, $v_1$ and $v_2$ are the velocities, $e$ is the specific\n",
    "total energy, and\n",
    "$$\n",
    "p = (\\gamma - 1) \\left( \\rho e - \\frac{1}{2} \\rho (v_1^2+v_2^2) \\right)\n",
    "$$\n",
    "is the pressure.\n",
    "Initial conditions consist of initial values for $\\rho$, $\\rho v_1$,\n",
    "$\\rho v_2$ and $\\rho e$.\n",
    "One of the common initial conditions for the compressible Euler equations is a simple density\n",
    "wave. Let's implement it."
   ],
   "metadata": {}
  },
  {
   "cell_type": "markdown",
   "source": [
    "- Open the downloaded file `elixir_euler_ec.jl` with a text editor.\n",
    "- Go to the line with the following code:\n",
    "  ```julia\n",
    "  initial_condition = initial_condition_weak_blast_wave\n",
    "  ```\n",
    "  Here, `initial_condition_weak_blast_wave` is used as the initial condition.\n",
    "- Comment out the line using the `#` symbol:\n",
    "  ```julia\n",
    "  # initial_condition = initial_condition_weak_blast_wave\n",
    "  ```\n",
    "- Now you can create your own initial conditions. Add the following code after the\n",
    "  commented line:"
   ],
   "metadata": {}
  },
  {
   "outputs": [],
   "cell_type": "code",
   "source": [
    "    function initial_condition_density_waves(x, t, equations::CompressibleEulerEquations2D)\n",
    "        v1 = 0.1 # velocity along x-axis\n",
    "        v2 = 0.2 # velocity along y-axis\n",
    "        rho = 1.0 + 0.98 * sin(pi * (sum(x) - t * (v1 + v2))) # density wave profile\n",
    "        p = 20 # pressure\n",
    "        rho_e = p / (equations.gamma - 1) + 1/2 * rho * (v1^2 + v2^2)\n",
    "        return SVector(rho, rho*v1, rho*v2, rho_e)\n",
    "    end\n",
    "    initial_condition = initial_condition_density_waves"
   ],
   "metadata": {},
   "execution_count": null
  },
  {
   "cell_type": "markdown",
   "source": [
    "- Execute the following code one more time, but instead of `path/to/file` paste the path to the\n",
    "  `elixir_euler_ec.jl` file that you just edited.\n",
    "  ```julia\n",
    "  using Trixi\n",
    "  trixi_include(path/to/file)\n",
    "  using Plots\n",
    "  plot(sol)\n",
    "  ```\n",
    "Then you will obtain a new solution from running the simulation with a different initial\n",
    "condition."
   ],
   "metadata": {}
  },
  {
   "cell_type": "markdown",
   "source": [
    "Feel free to make further changes to the initial condition to observe different solutions."
   ],
   "metadata": {}
  },
  {
   "cell_type": "markdown",
   "source": [
    "Now you are able to download, modify and execute simulation setups for Trixi.jl."
   ],
   "metadata": {}
  },
  {
   "cell_type": "markdown",
   "source": [
    "## Package versions"
   ],
   "metadata": {}
  },
  {
   "cell_type": "markdown",
   "source": [
    "These results were obtained using the following versions."
   ],
   "metadata": {}
  },
  {
   "outputs": [],
   "cell_type": "code",
   "source": [
    "using InteractiveUtils\n",
    "versioninfo()\n",
    "\n",
    "using Pkg\n",
    "Pkg.status([\"Trixi\",\"OrdinaryDiffEq\",\"Plots\",\"ForwardDiff\"],\n",
    "           mode=PKGMODE_MANIFEST)"
   ],
   "metadata": {},
   "execution_count": null
  }
 ],
 "nbformat_minor": 3,
 "metadata": {
  "language_info": {
   "file_extension": ".jl",
   "mimetype": "application/julia",
   "name": "julia",
   "version": "1.9.3"
  },
  "kernelspec": {
   "name": "julia-1.9",
   "display_name": "Julia 1.9.3",
   "language": "julia"
  }
 },
 "nbformat": 4
}
