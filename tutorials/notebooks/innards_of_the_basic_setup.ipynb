{
 "cells": [
  {
   "cell_type": "markdown",
   "source": [
    "# 19: Core aspects of the basic setup"
   ],
   "metadata": {}
  },
  {
   "cell_type": "markdown",
   "source": [
    "**Note:** To improve responsiveness via caching, the notebooks are updated only once a week. They are only\n",
    "available for the latest stable release of Trixi.jl at the time of caching."
   ],
   "metadata": {}
  },
  {
   "cell_type": "markdown",
   "source": [
    "This tutorial aims to provide insights into the Trixi.jl framework, with a focus on commonly\n",
    "used complex functions. These functions may lack clarity in their names and brief documentation\n",
    "descriptions."
   ],
   "metadata": {}
  },
  {
   "cell_type": "markdown",
   "source": [
    "We will guide you through a simplified setup, emphasizing functionalities that may not be evident\n",
    "to an average user. This setup is based on stable parts of Trixi.jl that are unlikely to undergo\n",
    "significant changes in the near future. Nevertheless, it will clarify fundamental concepts that\n",
    "continue to be applied in more recent and flexible configurations."
   ],
   "metadata": {}
  },
  {
   "cell_type": "markdown",
   "source": [
    "## Basic setup"
   ],
   "metadata": {}
  },
  {
   "cell_type": "markdown",
   "source": [
    "Import essential libraries and specify an equation."
   ],
   "metadata": {}
  },
  {
   "outputs": [],
   "cell_type": "code",
   "source": [
    "using Trixi, OrdinaryDiffEq\n",
    "equations=LinearScalarAdvectionEquation2D((-0.2,0.7))"
   ],
   "metadata": {},
   "execution_count": null
  },
  {
   "cell_type": "markdown",
   "source": [
    "Generate a geometrical instruction for spatial discretization using `TreeMesh` with\n",
    "pre-coarsened cell."
   ],
   "metadata": {}
  },
  {
   "outputs": [],
   "cell_type": "code",
   "source": [
    "coordinates_min = (-2.0, -2.0)\n",
    "coordinates_max = (2.0, 2.0)\n",
    "\n",
    "coarsening_patches = ( # Coarsen cell in the lower-right quarter\n",
    "  (type=\"box\", coordinates_min=[0.0, -2.0], coordinates_max=[2.0, 0.0]),\n",
    ")\n",
    "\n",
    " mesh = TreeMesh(coordinates_min, coordinates_max, initial_refinement_level=2,\n",
    "                 n_cells_max=30_000,\n",
    "                 coarsening_patches=coarsening_patches)"
   ],
   "metadata": {},
   "execution_count": null
  },
  {
   "cell_type": "markdown",
   "source": [
    "Created `TreeMesh` looks like:"
   ],
   "metadata": {}
  },
  {
   "cell_type": "markdown",
   "source": [
    "![TreeMesh_example](https://github.com/trixi-framework/Trixi.jl/assets/119304909/d5ef76ee-8246-4730-a692-b472c06063a3)"
   ],
   "metadata": {}
  },
  {
   "cell_type": "markdown",
   "source": [
    "Instantiate a `DGSEM` solver with a user-specified polynomial degree. The solver's\n",
    "objective is to define the `polydeg + 1` Gauss-Lobatto nodes, and their associated weights within\n",
    "the reference interval [-1, 1]. These nodes will be subsequently used to approximate solutions\n",
    "on each leaf cell of the `TreeMesh`."
   ],
   "metadata": {}
  },
  {
   "outputs": [],
   "cell_type": "code",
   "source": [
    "solver = DGSEM(polydeg=3)"
   ],
   "metadata": {},
   "execution_count": null
  },
  {
   "cell_type": "markdown",
   "source": [
    "Gauss-Lobatto nodes with `N=4`:"
   ],
   "metadata": {}
  },
  {
   "cell_type": "markdown",
   "source": [
    "![Gauss-Lobatto_nodes_example](https://github.com/trixi-framework/Trixi.jl/assets/119304909/401e5e85-026e-48b6-8a1f-dca0306f3bb0)"
   ],
   "metadata": {}
  },
  {
   "cell_type": "markdown",
   "source": [
    "## Overview of the `SemidiscretizationHyperbolic` function"
   ],
   "metadata": {}
  },
  {
   "cell_type": "markdown",
   "source": [
    "At this stage, all the necessary components for configuring domain discretization are in place.\n",
    "The remaining task is to combine these components into a single structure that will be used\n",
    "throughout the entire solving process. This is where `SemidiscretizationHyperbolic` comes\n",
    "into play."
   ],
   "metadata": {}
  },
  {
   "outputs": [],
   "cell_type": "code",
   "source": [
    "semi = SemidiscretizationHyperbolic(mesh, equations, initial_condition_convergence_test, solver)"
   ],
   "metadata": {},
   "execution_count": null
  },
  {
   "cell_type": "markdown",
   "source": [
    "The `SemidiscretizationHyperbolic` function calls numerous sub-functions to perform the necessary\n",
    "steps. A brief description of the key sub-functions is provided below."
   ],
   "metadata": {}
  },
  {
   "cell_type": "markdown",
   "source": [
    "- `init_elements(leaf_cell_ids, mesh, equations, dg.basis, RealT, uEltype)`"
   ],
   "metadata": {}
  },
  {
   "cell_type": "markdown",
   "source": [
    "  As was already mentioned, the fundamental elements for approximating a solution are the leaf\n",
    "  cells. This implies that on each leaf cell, the solution is treated as a polynomial of the\n",
    "  degree specified in the `DGSEM` solver and evaluated at the Gauss-Lobatto nodes, which were\n",
    "  previously illustrated. To provide this, the `init_elements` function extracts these leaf cells\n",
    "  from the `TreeMesh`, assigns them the label \"elements\", records their coordinates, and maps the\n",
    "  Gauss-Lobatto nodes from the 1D interval [-1, 1] onto each axis of every element."
   ],
   "metadata": {}
  },
  {
   "cell_type": "markdown",
   "source": [
    "  ![elements_example](https://github.com/trixi-framework/Trixi.jl/assets/119304909/534131bd-e85b-43d5-860d-2db6e60ce921)"
   ],
   "metadata": {}
  },
  {
   "cell_type": "markdown",
   "source": [
    "  The visualization of elements with nodes includes spaces between elements, which do not exist\n",
    "  in  reality. This spacing is included only for illustrative purposes to underscore the\n",
    "  separation of elements and the independent projection of nodes onto each element."
   ],
   "metadata": {}
  },
  {
   "cell_type": "markdown",
   "source": [
    "- `init_interfaces(leaf_cell_ids, mesh, elements)`"
   ],
   "metadata": {}
  },
  {
   "cell_type": "markdown",
   "source": [
    "  At this point, the elements with nodes have been defined; however, they lack the necessary\n",
    "  communication functionality. This is crucial because the solutions on the elements are not\n",
    "  independent of each other. Furthermore, nodes on the boundary of adjacent elements share\n",
    "  the same spatial location, requiring a method to combine their solutions."
   ],
   "metadata": {}
  },
  {
   "cell_type": "markdown",
   "source": [
    "  As demonstrated earlier, the elements can have varying sizes. Let us initially consider\n",
    "  neighbors with equal size. For these elements, the `init_interfaces` function generates\n",
    "  interfaces that store information about adjacent elements, their relative positions, and\n",
    "  allocate containers for sharing solutions between neighbors during the solving process."
   ],
   "metadata": {}
  },
  {
   "cell_type": "markdown",
   "source": [
    "  In our visualization, these interfaces would conceptually resemble tubes connecting the\n",
    "  corresponding elements."
   ],
   "metadata": {}
  },
  {
   "cell_type": "markdown",
   "source": [
    "  ![interfaces_example](https://github.com/trixi-framework/Trixi.jl/assets/119304909/bc3b6b02-afbc-4371-aaf7-c7bdc5a6c540)"
   ],
   "metadata": {}
  },
  {
   "cell_type": "markdown",
   "source": [
    "- `init_mortars(leaf_cell_ids, mesh, elements, dg.mortar)`"
   ],
   "metadata": {}
  },
  {
   "cell_type": "markdown",
   "source": [
    "  Returning to the consideration of different sizes among adjacent elements, within the\n",
    "  `TreeMesh`, adjacent leaf cells can vary in size by a maximum factor of two. This implies\n",
    "  that a coarsened element on each side, excluding the domain boundaries, has one neighbor of\n",
    "  equal size with a connection through an interface, or two neighbors with sizes two times\n",
    "  smaller, requiring a connection through so called \"mortars\"."
   ],
   "metadata": {}
  },
  {
   "cell_type": "markdown",
   "source": [
    "  Mortars store information about the connected elements, their relative positions, and allocate\n",
    "  containers for sharing solutions between these elements along their boundaries."
   ],
   "metadata": {}
  },
  {
   "cell_type": "markdown",
   "source": [
    "  In our visualization, mortars are represented as branched tubes."
   ],
   "metadata": {}
  },
  {
   "cell_type": "markdown",
   "source": [
    "  ![mortars_example](https://github.com/trixi-framework/Trixi.jl/assets/119304909/43a95a60-3a31-4b1f-8724-14049e7a0481)"
   ],
   "metadata": {}
  },
  {
   "cell_type": "markdown",
   "source": [
    "- `init_boundaries(leaf_cell_ids, mesh, elements)`"
   ],
   "metadata": {}
  },
  {
   "cell_type": "markdown",
   "source": [
    "  In order to apply boundary conditions, it is necessary to identify the locations of the\n",
    "  boundaries. Therefore, we initialize a \"boundaries\" object, which records the elements that\n",
    "  contain boundaries, specifies which side of an element is a boundary, stores the coordinates\n",
    "  of boundary nodes, and allocates containers for managing solutions at these boundaries."
   ],
   "metadata": {}
  },
  {
   "cell_type": "markdown",
   "source": [
    "  In our visualization, boundaries and their corresponding nodes are highlighted with green,\n",
    "  semi-transparent lines."
   ],
   "metadata": {}
  },
  {
   "cell_type": "markdown",
   "source": [
    "  ![boundaries_example](https://github.com/trixi-framework/Trixi.jl/assets/119304909/21996b20-4a22-4dfb-b16a-e2c22c2f29fe)"
   ],
   "metadata": {}
  },
  {
   "cell_type": "markdown",
   "source": [
    "All the structures mentioned earlier are packed as a cache of type `Tuple`. Subsequently, an\n",
    "object of type `SemidiscretizationHyperbolic` is initialized using this cache, initial and\n",
    "boundary conditions, equations, mesh and solver."
   ],
   "metadata": {}
  },
  {
   "cell_type": "markdown",
   "source": [
    "In conclusion, `Semidiscretization`'s primary function is to collect equations, the geometric\n",
    "representation of the domain, and approximation instructions, creating specialized structures to\n",
    "interconnect these components in a manner that enables their utilization for the numerical\n",
    "solution of partial differential equations (PDEs)."
   ],
   "metadata": {}
  },
  {
   "cell_type": "markdown",
   "source": [
    "As evident from the earlier description of `SemidiscretizationHyperbolic`, it comprises numerous\n",
    "functions called recursively. Without delving into details, the structure of the primary calls\n",
    "can be illustrated as follows:"
   ],
   "metadata": {}
  },
  {
   "cell_type": "markdown",
   "source": [
    "![SemidiscretizationHyperbolic_structure](https://github.com/trixi-framework/Trixi.jl/assets/119304909/2cdfe3d1-f88a-4028-b83c-908d34d400cd)"
   ],
   "metadata": {}
  },
  {
   "cell_type": "markdown",
   "source": [
    "## Overview of the `semidiscretize` function"
   ],
   "metadata": {}
  },
  {
   "cell_type": "markdown",
   "source": [
    "At this stage, we have defined the equations and configured the domain's discretization. The\n",
    "final step before solving is to select a suitable time span and apply the corresponding initial\n",
    "conditions, which are already stored in the initialized `SemidiscretizationHyperbolic` object."
   ],
   "metadata": {}
  },
  {
   "cell_type": "markdown",
   "source": [
    "The purpose of the `semidiscretize` function is to wrap the semi-discretization as an\n",
    "`ODEProblem` within the specified time interval, while also applying the initial conditions at\n",
    "the left boundary of this interval. This `ODEProblem` can be subsequently passed to the `solve`\n",
    "function from the OrdinaryDiffEq.jl package."
   ],
   "metadata": {}
  },
  {
   "outputs": [],
   "cell_type": "code",
   "source": [
    "ode = semidiscretize(semi, (0.0, 1.0));"
   ],
   "metadata": {},
   "execution_count": null
  },
  {
   "cell_type": "markdown",
   "source": [
    "The `semidiscretize` function involves a deep tree of recursive calls, with the primary ones\n",
    "explained below."
   ],
   "metadata": {}
  },
  {
   "cell_type": "markdown",
   "source": [
    "- `allocate_coefficients(mesh, equations, solver, cache)`"
   ],
   "metadata": {}
  },
  {
   "cell_type": "markdown",
   "source": [
    "  To apply initial conditions, a container needs to be generated to store the initial values of\n",
    "  the target variables for each node within each element. The `allocate_coefficients` function\n",
    "  initializes `u_ode` as a 1D zero-vector with a length that depends on the number of variables,\n",
    "  elements, nodes, and dimensions. The use of a 1D vector format is consistent with the\n",
    "  requirements of the `solve` function from OrdinaryDiffEq.jl. Therefore, Trixi.jl follows this\n",
    "  format to be able to utilize the functionalities of OrdinaryDiffEq.jl."
   ],
   "metadata": {}
  },
  {
   "cell_type": "markdown",
   "source": [
    "- `wrap_array(u_ode, semi)`"
   ],
   "metadata": {}
  },
  {
   "cell_type": "markdown",
   "source": [
    "  As previously noted, `u_ode` is constructed as a 1D vector to ensure compatibility with\n",
    "  OrdinaryDiffEq.jl. However, for internal use within Trixi.jl, identification which part of the\n",
    "  vector relates to specific variables, elements and nodes can be challenging."
   ],
   "metadata": {}
  },
  {
   "cell_type": "markdown",
   "source": [
    "  This is why the `u_ode` vector is wrapped by the `wrap_array` function to create a\n",
    "  multidimensional array `u`, with each dimension representing variables, nodes and elements.\n",
    "  Consequently, navigation within this multidimensional array becomes noticeably easier."
   ],
   "metadata": {}
  },
  {
   "cell_type": "markdown",
   "source": [
    "  \"Wrapping\" in this context involves the creation of a reference to the same storage location\n",
    "  but with an alternative structural representation. This approach enables the use of both\n",
    "  instances `u` and `u_ode` as needed, so that changes are simultaneously reflected in both.\n",
    "  This is possible because, from a storage perspective, they share the same stored data, while\n",
    "  access to this data is provided in different ways."
   ],
   "metadata": {}
  },
  {
   "cell_type": "markdown",
   "source": [
    "- `compute_coefficients!(u, initial_conditions, t, mesh::DG, equations, solver, cache)`"
   ],
   "metadata": {}
  },
  {
   "cell_type": "markdown",
   "source": [
    "  Now the variable `u`, intended to store solutions, has been allocated and wrapped, it is time\n",
    "  to apply the initial conditions. The `compute_coefficients!` function calculates the initial\n",
    "  conditions for each variable at every node within each element and properly stores them in the\n",
    "  `u` array."
   ],
   "metadata": {}
  },
  {
   "cell_type": "markdown",
   "source": [
    "At this stage, the `semidiscretize` function has all the necessary components to initialize and\n",
    "return an `ODEProblem` object, which will be used by the `solve` function to compute the\n",
    "solution."
   ],
   "metadata": {}
  },
  {
   "cell_type": "markdown",
   "source": [
    "In summary, the internal workings of `semidiscretize` with brief descriptions can be presented\n",
    "as follows."
   ],
   "metadata": {}
  },
  {
   "cell_type": "markdown",
   "source": [
    "![semidiscretize_structure](https://github.com/trixi-framework/Trixi.jl/assets/119304909/491eddc4-aadb-4e29-8c76-a7c821d0674e)"
   ],
   "metadata": {}
  },
  {
   "cell_type": "markdown",
   "source": [
    "## Functions `solve` and `rhs!`"
   ],
   "metadata": {}
  },
  {
   "cell_type": "markdown",
   "source": [
    "Once the `ODEProblem` object is initialized, the `solve` function from the OrdinaryDiffEq.jl\n",
    "package can be utilized to compute an approximated solution using the instructions contained in\n",
    "the `ODEProblem` object."
   ],
   "metadata": {}
  },
  {
   "outputs": [],
   "cell_type": "code",
   "source": [
    "sol = solve(ode, CarpenterKennedy2N54(williamson_condition=false), dt=0.01, save_everystep=false);"
   ],
   "metadata": {},
   "execution_count": null
  },
  {
   "cell_type": "markdown",
   "source": [
    "Since the `solve` function is defined in another package without knowledge of how to handle\n",
    "discretizations performed in Trixi.jl, it is necessary to define the right-hand-side function,\n",
    "`rhs!`, within Trixi.jl."
   ],
   "metadata": {}
  },
  {
   "cell_type": "markdown",
   "source": [
    "Trixi.jl includes a set of `rhs!` functions designed to compute `du` according to the structure\n",
    "of the setup. These `rhs!` functions calculate interface, mortars, and boundary fluxes, in\n",
    "addition to surface and volume integrals, in order to construct the `du` vector. This `du` vector\n",
    "is then used by the time integration method to derive solutions in the subsequent time step.\n",
    "The `rhs!` function is called by time integration methods in each iteration of the solve-loop\n",
    "within OrdinaryDiffEq.jl, with arguments `du`, `u`, `Semidiscretization`, and the time step."
   ],
   "metadata": {}
  },
  {
   "cell_type": "markdown",
   "source": [
    "The problem is that `rhs!` functions within Trixi.jl are specialized for specific solver and mesh\n",
    "types. However, the types of arguments passed to `rhs!` by time integration methods do not\n",
    "explicitly provide this information. Consequently, Trixi.jl uses a two-levels approach for `rhs!`\n",
    "functions. The first level is limited to a single function for each `semidiscretization` type,\n",
    "and its role is to redirect data to the target `rhs!`. It performs this by extracting the\n",
    "necessary data from the integrator and passing them, along with the originally received\n",
    "arguments, to the specialized for solver and mesh types `rhs!` function, which is\n",
    "responsible for calculating `du`."
   ],
   "metadata": {}
  },
  {
   "cell_type": "markdown",
   "source": [
    "Path from the `solve` function call to the appropriate `rhs!` function call:"
   ],
   "metadata": {}
  },
  {
   "cell_type": "markdown",
   "source": [
    "![rhs_structure](https://github.com/trixi-framework/Trixi.jl/assets/119304909/dbea9a0e-25a4-4afa-855e-01f1ad619982)"
   ],
   "metadata": {}
  },
  {
   "cell_type": "markdown",
   "source": [
    "Computed solution:"
   ],
   "metadata": {}
  },
  {
   "outputs": [],
   "cell_type": "code",
   "source": [
    "using Plots\n",
    "plot(sol)\n",
    "pd = PlotData2D(sol)\n",
    "plot!(getmesh(pd))"
   ],
   "metadata": {},
   "execution_count": null
  },
  {
   "cell_type": "markdown",
   "source": [
    "## Package versions"
   ],
   "metadata": {}
  },
  {
   "cell_type": "markdown",
   "source": [
    "These results were obtained using the following versions."
   ],
   "metadata": {}
  },
  {
   "outputs": [],
   "cell_type": "code",
   "source": [
    "using InteractiveUtils\n",
    "versioninfo()\n",
    "\n",
    "using Pkg\n",
    "Pkg.status([\"Trixi\", \"OrdinaryDiffEq\", \"Plots\", \"ForwardDiff\"],\n",
    "           mode=PKGMODE_MANIFEST)"
   ],
   "metadata": {},
   "execution_count": null
  }
 ],
 "nbformat_minor": 3,
 "metadata": {
  "language_info": {
   "file_extension": ".jl",
   "mimetype": "application/julia",
   "name": "julia",
   "version": "1.9.3"
  },
  "kernelspec": {
   "name": "julia-1.9",
   "display_name": "Julia 1.9.3",
   "language": "julia"
  }
 },
 "nbformat": 4
}
